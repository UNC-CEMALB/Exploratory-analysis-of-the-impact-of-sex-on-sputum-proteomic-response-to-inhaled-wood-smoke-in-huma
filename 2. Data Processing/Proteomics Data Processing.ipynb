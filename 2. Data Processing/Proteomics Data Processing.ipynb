{
 "cells": [
  {
   "cell_type": "code",
   "execution_count": 1,
   "id": "126baa9b",
   "metadata": {},
   "outputs": [],
   "source": [
    "# this was necessary to install the imputeLCMD package\n",
    "\n",
    "# if (!require(\"BiocManager\", quietly = TRUE))\n",
    "#     install.packages(\"BiocManager\")\n",
    "\n",
    "# BiocManager::install(c(\"pcaMethods\", \"impute\"))\n",
    "\n",
    "# install.packages(\"imputeLCMD\")"
   ]
  },
  {
   "cell_type": "code",
   "execution_count": 2,
   "id": "84862c8d",
   "metadata": {},
   "outputs": [
    {
     "name": "stderr",
     "output_type": "stream",
     "text": [
      "── \u001b[1mAttaching packages\u001b[22m ─────────────────────────────────────── tidyverse 1.3.2 ──\n",
      "\u001b[32m✔\u001b[39m \u001b[34mggplot2\u001b[39m 3.3.6      \u001b[32m✔\u001b[39m \u001b[34mpurrr  \u001b[39m 0.3.4 \n",
      "\u001b[32m✔\u001b[39m \u001b[34mtibble \u001b[39m 3.1.8      \u001b[32m✔\u001b[39m \u001b[34mdplyr  \u001b[39m 1.0.10\n",
      "\u001b[32m✔\u001b[39m \u001b[34mtidyr  \u001b[39m 1.2.1      \u001b[32m✔\u001b[39m \u001b[34mstringr\u001b[39m 1.4.1 \n",
      "\u001b[32m✔\u001b[39m \u001b[34mreadr  \u001b[39m 2.1.2      \u001b[32m✔\u001b[39m \u001b[34mforcats\u001b[39m 0.5.2 \n",
      "── \u001b[1mConflicts\u001b[22m ────────────────────────────────────────── tidyverse_conflicts() ──\n",
      "\u001b[31m✖\u001b[39m \u001b[34mdplyr\u001b[39m::\u001b[32mfilter()\u001b[39m masks \u001b[34mstats\u001b[39m::filter()\n",
      "\u001b[31m✖\u001b[39m \u001b[34mdplyr\u001b[39m::\u001b[32mlag()\u001b[39m    masks \u001b[34mstats\u001b[39m::lag()\n",
      "Loading required package: tmvtnorm\n",
      "\n",
      "Loading required package: mvtnorm\n",
      "\n",
      "Loading required package: Matrix\n",
      "\n",
      "\n",
      "Attaching package: ‘Matrix’\n",
      "\n",
      "\n",
      "The following objects are masked from ‘package:tidyr’:\n",
      "\n",
      "    expand, pack, unpack\n",
      "\n",
      "\n",
      "Loading required package: stats4\n",
      "\n",
      "Loading required package: gmm\n",
      "\n",
      "Loading required package: sandwich\n",
      "\n",
      "Loading required package: norm\n",
      "\n",
      "This package has some major limitations\n",
      "(for example, it does not work reliably when\n",
      "the number of variables exceeds 30),\n",
      "and has been superseded by the norm2 package.\n",
      "\n",
      "Loading required package: pcaMethods\n",
      "\n",
      "Loading required package: Biobase\n",
      "\n",
      "Loading required package: BiocGenerics\n",
      "\n",
      "\n",
      "Attaching package: ‘BiocGenerics’\n",
      "\n",
      "\n",
      "The following objects are masked from ‘package:dplyr’:\n",
      "\n",
      "    combine, intersect, setdiff, union\n",
      "\n",
      "\n",
      "The following objects are masked from ‘package:stats’:\n",
      "\n",
      "    IQR, mad, sd, var, xtabs\n",
      "\n",
      "\n",
      "The following objects are masked from ‘package:base’:\n",
      "\n",
      "    Filter, Find, Map, Position, Reduce, anyDuplicated, append,\n",
      "    as.data.frame, basename, cbind, colnames, dirname, do.call,\n",
      "    duplicated, eval, evalq, get, grep, grepl, intersect, is.unsorted,\n",
      "    lapply, mapply, match, mget, order, paste, pmax, pmax.int, pmin,\n",
      "    pmin.int, rank, rbind, rownames, sapply, setdiff, sort, table,\n",
      "    tapply, union, unique, unsplit, which.max, which.min\n",
      "\n",
      "\n",
      "Welcome to Bioconductor\n",
      "\n",
      "    Vignettes contain introductory material; view with\n",
      "    'browseVignettes()'. To cite Bioconductor, see\n",
      "    'citation(\"Biobase\")', and for packages 'citation(\"pkgname\")'.\n",
      "\n",
      "\n",
      "\n",
      "Attaching package: ‘pcaMethods’\n",
      "\n",
      "\n",
      "The following object is masked from ‘package:stats’:\n",
      "\n",
      "    loadings\n",
      "\n",
      "\n",
      "Loading required package: impute\n",
      "\n",
      "Welcome! Want to learn more? See two factoextra-related books at https://goo.gl/ve3WBa\n",
      "\n"
     ]
    }
   ],
   "source": [
    "# specifying the location of files to be exported on my computer\n",
    "Output = (\"/Users/alexis/Library/CloudStorage/OneDrive-UniversityofNorthCarolinaatChapelHill/CEMALB_DataAnalysisPM/Projects/P1007. Sputum Proteomics/P1007.3. Analyses/P1007.3.1. Data Processing/Output\")\n",
    "\n",
    "# it's always a good idea to update the date every time the file is modified\n",
    "cur_date = \"113022\"\n",
    "\n",
    "# loading packages\n",
    "library(readxl)\n",
    "library(tidyverse)\n",
    "library(imputeLCMD)\n",
    "library(factoextra)\n",
    "\n",
    "# reading in files\n",
    "demographics_df = data.frame(read_excel(\"Input/SubjectInfo_113022.xlsx\", sheet = 2))\n",
    "proteomics_df = data.frame(read_excel(\"Input/Proteomics_Data_113022.xlsx\", sheet = 2))"
   ]
  },
  {
   "cell_type": "code",
   "execution_count": 3,
   "id": "9bab0a8f",
   "metadata": {},
   "outputs": [
    {
     "data": {
      "text/html": [
       "<table class=\"dataframe\">\n",
       "<caption>A data.frame: 6 × 14</caption>\n",
       "<thead>\n",
       "\t<tr><th></th><th scope=col>Original_Subject_Number</th><th scope=col>Proteomic_Core_Subject_Number</th><th scope=col>Proteomic_Core_Batch_Number</th><th scope=col>Subject_Number</th><th scope=col>Subject_ID</th><th scope=col>Sex</th><th scope=col>Race</th><th scope=col>Ethnicity</th><th scope=col>Age</th><th scope=col>BMI</th><th scope=col>Asthma_Status</th><th scope=col>Pre_Sputum_Neutrophilia</th><th scope=col>Post_Sputum_Neutrophilia</th><th scope=col>Responder_Status</th></tr>\n",
       "\t<tr><th></th><th scope=col>&lt;dbl&gt;</th><th scope=col>&lt;dbl&gt;</th><th scope=col>&lt;dbl&gt;</th><th scope=col>&lt;dbl&gt;</th><th scope=col>&lt;chr&gt;</th><th scope=col>&lt;chr&gt;</th><th scope=col>&lt;chr&gt;</th><th scope=col>&lt;chr&gt;</th><th scope=col>&lt;dbl&gt;</th><th scope=col>&lt;dbl&gt;</th><th scope=col>&lt;chr&gt;</th><th scope=col>&lt;dbl&gt;</th><th scope=col>&lt;dbl&gt;</th><th scope=col>&lt;chr&gt;</th></tr>\n",
       "</thead>\n",
       "<tbody>\n",
       "\t<tr><th scope=row>1</th><td> 1</td><td> 1</td><td>2</td><td>1</td><td>NR_1</td><td>M</td><td>B </td><td>NH</td><td>37</td><td>26.0</td><td>NAS</td><td>77.20</td><td>74.49</td><td>NR</td></tr>\n",
       "\t<tr><th scope=row>2</th><td> 6</td><td> 3</td><td>2</td><td>2</td><td>NR_2</td><td>F</td><td>W </td><td>NH</td><td>26</td><td>21.9</td><td>NAS</td><td>22.60</td><td> 0.00</td><td>NR</td></tr>\n",
       "\t<tr><th scope=row>3</th><td>11</td><td> 9</td><td>1</td><td>3</td><td>NR_3</td><td>M</td><td>W </td><td>NH</td><td>33</td><td>23.9</td><td>NAS</td><td>68.39</td><td> 0.00</td><td>NR</td></tr>\n",
       "\t<tr><th scope=row>4</th><td>16</td><td>15</td><td>3</td><td>4</td><td>NR_4</td><td>F</td><td>W </td><td>NH</td><td>30</td><td>23.3</td><td>NAS</td><td>34.63</td><td>22.72</td><td>NR</td></tr>\n",
       "\t<tr><th scope=row>5</th><td>23</td><td>23</td><td>1</td><td>5</td><td>NR_5</td><td>M</td><td>As</td><td>NH</td><td>29</td><td>19.6</td><td>NAS</td><td>28.60</td><td>79.70</td><td>NR</td></tr>\n",
       "\t<tr><th scope=row>6</th><td>28</td><td>29</td><td>3</td><td>6</td><td>NR_6</td><td>F</td><td>W </td><td>NH</td><td>31</td><td>21.1</td><td>NAS</td><td>50.00</td><td> 0.00</td><td>NR</td></tr>\n",
       "</tbody>\n",
       "</table>\n"
      ],
      "text/latex": [
       "A data.frame: 6 × 14\n",
       "\\begin{tabular}{r|llllllllllllll}\n",
       "  & Original\\_Subject\\_Number & Proteomic\\_Core\\_Subject\\_Number & Proteomic\\_Core\\_Batch\\_Number & Subject\\_Number & Subject\\_ID & Sex & Race & Ethnicity & Age & BMI & Asthma\\_Status & Pre\\_Sputum\\_Neutrophilia & Post\\_Sputum\\_Neutrophilia & Responder\\_Status\\\\\n",
       "  & <dbl> & <dbl> & <dbl> & <dbl> & <chr> & <chr> & <chr> & <chr> & <dbl> & <dbl> & <chr> & <dbl> & <dbl> & <chr>\\\\\n",
       "\\hline\n",
       "\t1 &  1 &  1 & 2 & 1 & NR\\_1 & M & B  & NH & 37 & 26.0 & NAS & 77.20 & 74.49 & NR\\\\\n",
       "\t2 &  6 &  3 & 2 & 2 & NR\\_2 & F & W  & NH & 26 & 21.9 & NAS & 22.60 &  0.00 & NR\\\\\n",
       "\t3 & 11 &  9 & 1 & 3 & NR\\_3 & M & W  & NH & 33 & 23.9 & NAS & 68.39 &  0.00 & NR\\\\\n",
       "\t4 & 16 & 15 & 3 & 4 & NR\\_4 & F & W  & NH & 30 & 23.3 & NAS & 34.63 & 22.72 & NR\\\\\n",
       "\t5 & 23 & 23 & 1 & 5 & NR\\_5 & M & As & NH & 29 & 19.6 & NAS & 28.60 & 79.70 & NR\\\\\n",
       "\t6 & 28 & 29 & 3 & 6 & NR\\_6 & F & W  & NH & 31 & 21.1 & NAS & 50.00 &  0.00 & NR\\\\\n",
       "\\end{tabular}\n"
      ],
      "text/markdown": [
       "\n",
       "A data.frame: 6 × 14\n",
       "\n",
       "| <!--/--> | Original_Subject_Number &lt;dbl&gt; | Proteomic_Core_Subject_Number &lt;dbl&gt; | Proteomic_Core_Batch_Number &lt;dbl&gt; | Subject_Number &lt;dbl&gt; | Subject_ID &lt;chr&gt; | Sex &lt;chr&gt; | Race &lt;chr&gt; | Ethnicity &lt;chr&gt; | Age &lt;dbl&gt; | BMI &lt;dbl&gt; | Asthma_Status &lt;chr&gt; | Pre_Sputum_Neutrophilia &lt;dbl&gt; | Post_Sputum_Neutrophilia &lt;dbl&gt; | Responder_Status &lt;chr&gt; |\n",
       "|---|---|---|---|---|---|---|---|---|---|---|---|---|---|---|\n",
       "| 1 |  1 |  1 | 2 | 1 | NR_1 | M | B  | NH | 37 | 26.0 | NAS | 77.20 | 74.49 | NR |\n",
       "| 2 |  6 |  3 | 2 | 2 | NR_2 | F | W  | NH | 26 | 21.9 | NAS | 22.60 |  0.00 | NR |\n",
       "| 3 | 11 |  9 | 1 | 3 | NR_3 | M | W  | NH | 33 | 23.9 | NAS | 68.39 |  0.00 | NR |\n",
       "| 4 | 16 | 15 | 3 | 4 | NR_4 | F | W  | NH | 30 | 23.3 | NAS | 34.63 | 22.72 | NR |\n",
       "| 5 | 23 | 23 | 1 | 5 | NR_5 | M | As | NH | 29 | 19.6 | NAS | 28.60 | 79.70 | NR |\n",
       "| 6 | 28 | 29 | 3 | 6 | NR_6 | F | W  | NH | 31 | 21.1 | NAS | 50.00 |  0.00 | NR |\n",
       "\n"
      ],
      "text/plain": [
       "  Original_Subject_Number Proteomic_Core_Subject_Number\n",
       "1  1                       1                           \n",
       "2  6                       3                           \n",
       "3 11                       9                           \n",
       "4 16                      15                           \n",
       "5 23                      23                           \n",
       "6 28                      29                           \n",
       "  Proteomic_Core_Batch_Number Subject_Number Subject_ID Sex Race Ethnicity Age\n",
       "1 2                           1              NR_1       M   B    NH        37 \n",
       "2 2                           2              NR_2       F   W    NH        26 \n",
       "3 1                           3              NR_3       M   W    NH        33 \n",
       "4 3                           4              NR_4       F   W    NH        30 \n",
       "5 1                           5              NR_5       M   As   NH        29 \n",
       "6 3                           6              NR_6       F   W    NH        31 \n",
       "  BMI  Asthma_Status Pre_Sputum_Neutrophilia Post_Sputum_Neutrophilia\n",
       "1 26.0 NAS           77.20                   74.49                   \n",
       "2 21.9 NAS           22.60                    0.00                   \n",
       "3 23.9 NAS           68.39                    0.00                   \n",
       "4 23.3 NAS           34.63                   22.72                   \n",
       "5 19.6 NAS           28.60                   79.70                   \n",
       "6 21.1 NAS           50.00                    0.00                   \n",
       "  Responder_Status\n",
       "1 NR              \n",
       "2 NR              \n",
       "3 NR              \n",
       "4 NR              \n",
       "5 NR              \n",
       "6 NR              "
      ]
     },
     "metadata": {},
     "output_type": "display_data"
    },
    {
     "data": {
      "text/html": [
       "<table class=\"dataframe\">\n",
       "<caption>A data.frame: 6 × 59</caption>\n",
       "<thead>\n",
       "\t<tr><th></th><th scope=col>Protein_Accession</th><th scope=col>Gene_Name</th><th scope=col>Protein_Descriptions</th><th scope=col>Protein_Name</th><th scope=col>Number_Unique_Peptides</th><th scope=col>NR_1.Post_1</th><th scope=col>NR_1.Pre_2</th><th scope=col>NR_2.Post_3</th><th scope=col>NR_2.Pre_4</th><th scope=col>R_16.Post_5</th><th scope=col>⋯</th><th scope=col>NR_15.Post_45</th><th scope=col>NR_15.Pre_46</th><th scope=col>R_26.Post_47</th><th scope=col>R_26.Pre_48</th><th scope=col>R_28.Post_49</th><th scope=col>R_28.Pre_50</th><th scope=col>NR_10.Post_51</th><th scope=col>NR_10.Pre_52</th><th scope=col>NR_11.Post_53</th><th scope=col>NR_11.Pre_54</th></tr>\n",
       "\t<tr><th></th><th scope=col>&lt;chr&gt;</th><th scope=col>&lt;chr&gt;</th><th scope=col>&lt;chr&gt;</th><th scope=col>&lt;chr&gt;</th><th scope=col>&lt;dbl&gt;</th><th scope=col>&lt;dbl&gt;</th><th scope=col>&lt;dbl&gt;</th><th scope=col>&lt;dbl&gt;</th><th scope=col>&lt;dbl&gt;</th><th scope=col>&lt;dbl&gt;</th><th scope=col>⋯</th><th scope=col>&lt;dbl&gt;</th><th scope=col>&lt;dbl&gt;</th><th scope=col>&lt;dbl&gt;</th><th scope=col>&lt;dbl&gt;</th><th scope=col>&lt;dbl&gt;</th><th scope=col>&lt;dbl&gt;</th><th scope=col>&lt;dbl&gt;</th><th scope=col>&lt;dbl&gt;</th><th scope=col>&lt;dbl&gt;</th><th scope=col>&lt;dbl&gt;</th></tr>\n",
       "</thead>\n",
       "<tbody>\n",
       "\t<tr><th scope=row>1</th><td>P61626              </td><td>LYZ              </td><td>Lysozyme C                                        </td><td>LYSC_HUMAN                         </td><td> 21</td><td>64819128</td><td>88131664</td><td> 30396704</td><td>38267072</td><td>68394088</td><td>⋯</td><td>101923184</td><td>60452100</td><td>80559896</td><td>58957400</td><td>76130320</td><td>74376768</td><td>65792688</td><td>194960864</td><td>69929272</td><td>78145128</td></tr>\n",
       "\t<tr><th scope=row>2</th><td>P01877              </td><td>IGHA2            </td><td>Immunoglobulin heavy constant alpha 2             </td><td>IGHA2_HUMAN                        </td><td> 26</td><td>22060250</td><td>42064988</td><td> 15816474</td><td>13573791</td><td>41635244</td><td>⋯</td><td> 25832360</td><td>17997114</td><td>51021916</td><td>33093636</td><td>31312154</td><td>27951066</td><td>47788776</td><td> 50067800</td><td>87764504</td><td>50257404</td></tr>\n",
       "\t<tr><th scope=row>3</th><td>P01876              </td><td>IGHA1            </td><td>Immunoglobulin heavy constant alpha 1             </td><td>IGHA1_HUMAN                        </td><td> 19</td><td>15479590</td><td>37625912</td><td> 10208903</td><td>17411216</td><td>26743002</td><td>⋯</td><td> 32377382</td><td>16222550</td><td>45050984</td><td>25297714</td><td>26496618</td><td>22352402</td><td>35715656</td><td> 48121812</td><td>34948236</td><td>26980310</td></tr>\n",
       "\t<tr><th scope=row>4</th><td>P02768              </td><td>ALB              </td><td>Albumin                                           </td><td>ALBU_HUMAN                         </td><td>111</td><td>24605874</td><td>15046185</td><td>  3849758</td><td>10269878</td><td>37167876</td><td>⋯</td><td> 23754696</td><td>35173596</td><td>12769630</td><td>12790221</td><td>12739557</td><td>20100892</td><td>25795572</td><td> 53819984</td><td>11479106</td><td>33682988</td></tr>\n",
       "\t<tr><th scope=row>5</th><td>P01834              </td><td>IGKC             </td><td>Immunoglobulin kappa constant                     </td><td>IGKC_HUMAN                         </td><td>  3</td><td>10251611</td><td>23780070</td><td>  5838666</td><td>11111163</td><td>17627460</td><td>⋯</td><td> 20500068</td><td>17385894</td><td>21898422</td><td>15646760</td><td>17069230</td><td> 7808116</td><td>12224238</td><td> 26033636</td><td> 8252182</td><td>17545114</td></tr>\n",
       "\t<tr><th scope=row>6</th><td>P0DTE7;P0DTE8;P0DUB6</td><td>AMY1B;AMY1C;AMY1A</td><td>Alpha-amylase 1B;Alpha-amylase 1C;Alpha-amylase 1A</td><td>AMY1B_HUMAN;AMY1C_HUMAN;AMY1A_HUMAN</td><td> 43</td><td>15135001</td><td> 4211979</td><td>121132528</td><td>12570474</td><td> 4974127</td><td>⋯</td><td>  3932507</td><td> 4589779</td><td>12964920</td><td>20496752</td><td> 9089169</td><td>20601276</td><td> 7792469</td><td> 21065250</td><td> 2210601</td><td> 7292686</td></tr>\n",
       "</tbody>\n",
       "</table>\n"
      ],
      "text/latex": [
       "A data.frame: 6 × 59\n",
       "\\begin{tabular}{r|lllllllllllllllllllll}\n",
       "  & Protein\\_Accession & Gene\\_Name & Protein\\_Descriptions & Protein\\_Name & Number\\_Unique\\_Peptides & NR\\_1.Post\\_1 & NR\\_1.Pre\\_2 & NR\\_2.Post\\_3 & NR\\_2.Pre\\_4 & R\\_16.Post\\_5 & ⋯ & NR\\_15.Post\\_45 & NR\\_15.Pre\\_46 & R\\_26.Post\\_47 & R\\_26.Pre\\_48 & R\\_28.Post\\_49 & R\\_28.Pre\\_50 & NR\\_10.Post\\_51 & NR\\_10.Pre\\_52 & NR\\_11.Post\\_53 & NR\\_11.Pre\\_54\\\\\n",
       "  & <chr> & <chr> & <chr> & <chr> & <dbl> & <dbl> & <dbl> & <dbl> & <dbl> & <dbl> & ⋯ & <dbl> & <dbl> & <dbl> & <dbl> & <dbl> & <dbl> & <dbl> & <dbl> & <dbl> & <dbl>\\\\\n",
       "\\hline\n",
       "\t1 & P61626               & LYZ               & Lysozyme C                                         & LYSC\\_HUMAN                          &  21 & 64819128 & 88131664 &  30396704 & 38267072 & 68394088 & ⋯ & 101923184 & 60452100 & 80559896 & 58957400 & 76130320 & 74376768 & 65792688 & 194960864 & 69929272 & 78145128\\\\\n",
       "\t2 & P01877               & IGHA2             & Immunoglobulin heavy constant alpha 2              & IGHA2\\_HUMAN                         &  26 & 22060250 & 42064988 &  15816474 & 13573791 & 41635244 & ⋯ &  25832360 & 17997114 & 51021916 & 33093636 & 31312154 & 27951066 & 47788776 &  50067800 & 87764504 & 50257404\\\\\n",
       "\t3 & P01876               & IGHA1             & Immunoglobulin heavy constant alpha 1              & IGHA1\\_HUMAN                         &  19 & 15479590 & 37625912 &  10208903 & 17411216 & 26743002 & ⋯ &  32377382 & 16222550 & 45050984 & 25297714 & 26496618 & 22352402 & 35715656 &  48121812 & 34948236 & 26980310\\\\\n",
       "\t4 & P02768               & ALB               & Albumin                                            & ALBU\\_HUMAN                          & 111 & 24605874 & 15046185 &   3849758 & 10269878 & 37167876 & ⋯ &  23754696 & 35173596 & 12769630 & 12790221 & 12739557 & 20100892 & 25795572 &  53819984 & 11479106 & 33682988\\\\\n",
       "\t5 & P01834               & IGKC              & Immunoglobulin kappa constant                      & IGKC\\_HUMAN                          &   3 & 10251611 & 23780070 &   5838666 & 11111163 & 17627460 & ⋯ &  20500068 & 17385894 & 21898422 & 15646760 & 17069230 &  7808116 & 12224238 &  26033636 &  8252182 & 17545114\\\\\n",
       "\t6 & P0DTE7;P0DTE8;P0DUB6 & AMY1B;AMY1C;AMY1A & Alpha-amylase 1B;Alpha-amylase 1C;Alpha-amylase 1A & AMY1B\\_HUMAN;AMY1C\\_HUMAN;AMY1A\\_HUMAN &  43 & 15135001 &  4211979 & 121132528 & 12570474 &  4974127 & ⋯ &   3932507 &  4589779 & 12964920 & 20496752 &  9089169 & 20601276 &  7792469 &  21065250 &  2210601 &  7292686\\\\\n",
       "\\end{tabular}\n"
      ],
      "text/markdown": [
       "\n",
       "A data.frame: 6 × 59\n",
       "\n",
       "| <!--/--> | Protein_Accession &lt;chr&gt; | Gene_Name &lt;chr&gt; | Protein_Descriptions &lt;chr&gt; | Protein_Name &lt;chr&gt; | Number_Unique_Peptides &lt;dbl&gt; | NR_1.Post_1 &lt;dbl&gt; | NR_1.Pre_2 &lt;dbl&gt; | NR_2.Post_3 &lt;dbl&gt; | NR_2.Pre_4 &lt;dbl&gt; | R_16.Post_5 &lt;dbl&gt; | ⋯ ⋯ | NR_15.Post_45 &lt;dbl&gt; | NR_15.Pre_46 &lt;dbl&gt; | R_26.Post_47 &lt;dbl&gt; | R_26.Pre_48 &lt;dbl&gt; | R_28.Post_49 &lt;dbl&gt; | R_28.Pre_50 &lt;dbl&gt; | NR_10.Post_51 &lt;dbl&gt; | NR_10.Pre_52 &lt;dbl&gt; | NR_11.Post_53 &lt;dbl&gt; | NR_11.Pre_54 &lt;dbl&gt; |\n",
       "|---|---|---|---|---|---|---|---|---|---|---|---|---|---|---|---|---|---|---|---|---|---|\n",
       "| 1 | P61626               | LYZ               | Lysozyme C                                         | LYSC_HUMAN                          |  21 | 64819128 | 88131664 |  30396704 | 38267072 | 68394088 | ⋯ | 101923184 | 60452100 | 80559896 | 58957400 | 76130320 | 74376768 | 65792688 | 194960864 | 69929272 | 78145128 |\n",
       "| 2 | P01877               | IGHA2             | Immunoglobulin heavy constant alpha 2              | IGHA2_HUMAN                         |  26 | 22060250 | 42064988 |  15816474 | 13573791 | 41635244 | ⋯ |  25832360 | 17997114 | 51021916 | 33093636 | 31312154 | 27951066 | 47788776 |  50067800 | 87764504 | 50257404 |\n",
       "| 3 | P01876               | IGHA1             | Immunoglobulin heavy constant alpha 1              | IGHA1_HUMAN                         |  19 | 15479590 | 37625912 |  10208903 | 17411216 | 26743002 | ⋯ |  32377382 | 16222550 | 45050984 | 25297714 | 26496618 | 22352402 | 35715656 |  48121812 | 34948236 | 26980310 |\n",
       "| 4 | P02768               | ALB               | Albumin                                            | ALBU_HUMAN                          | 111 | 24605874 | 15046185 |   3849758 | 10269878 | 37167876 | ⋯ |  23754696 | 35173596 | 12769630 | 12790221 | 12739557 | 20100892 | 25795572 |  53819984 | 11479106 | 33682988 |\n",
       "| 5 | P01834               | IGKC              | Immunoglobulin kappa constant                      | IGKC_HUMAN                          |   3 | 10251611 | 23780070 |   5838666 | 11111163 | 17627460 | ⋯ |  20500068 | 17385894 | 21898422 | 15646760 | 17069230 |  7808116 | 12224238 |  26033636 |  8252182 | 17545114 |\n",
       "| 6 | P0DTE7;P0DTE8;P0DUB6 | AMY1B;AMY1C;AMY1A | Alpha-amylase 1B;Alpha-amylase 1C;Alpha-amylase 1A | AMY1B_HUMAN;AMY1C_HUMAN;AMY1A_HUMAN |  43 | 15135001 |  4211979 | 121132528 | 12570474 |  4974127 | ⋯ |   3932507 |  4589779 | 12964920 | 20496752 |  9089169 | 20601276 |  7792469 |  21065250 |  2210601 |  7292686 |\n",
       "\n"
      ],
      "text/plain": [
       "  Protein_Accession    Gene_Name        \n",
       "1 P61626               LYZ              \n",
       "2 P01877               IGHA2            \n",
       "3 P01876               IGHA1            \n",
       "4 P02768               ALB              \n",
       "5 P01834               IGKC             \n",
       "6 P0DTE7;P0DTE8;P0DUB6 AMY1B;AMY1C;AMY1A\n",
       "  Protein_Descriptions                              \n",
       "1 Lysozyme C                                        \n",
       "2 Immunoglobulin heavy constant alpha 2             \n",
       "3 Immunoglobulin heavy constant alpha 1             \n",
       "4 Albumin                                           \n",
       "5 Immunoglobulin kappa constant                     \n",
       "6 Alpha-amylase 1B;Alpha-amylase 1C;Alpha-amylase 1A\n",
       "  Protein_Name                        Number_Unique_Peptides NR_1.Post_1\n",
       "1 LYSC_HUMAN                           21                    64819128   \n",
       "2 IGHA2_HUMAN                          26                    22060250   \n",
       "3 IGHA1_HUMAN                          19                    15479590   \n",
       "4 ALBU_HUMAN                          111                    24605874   \n",
       "5 IGKC_HUMAN                            3                    10251611   \n",
       "6 AMY1B_HUMAN;AMY1C_HUMAN;AMY1A_HUMAN  43                    15135001   \n",
       "  NR_1.Pre_2 NR_2.Post_3 NR_2.Pre_4 R_16.Post_5 ⋯ NR_15.Post_45 NR_15.Pre_46\n",
       "1 88131664    30396704   38267072   68394088    ⋯ 101923184     60452100    \n",
       "2 42064988    15816474   13573791   41635244    ⋯  25832360     17997114    \n",
       "3 37625912    10208903   17411216   26743002    ⋯  32377382     16222550    \n",
       "4 15046185     3849758   10269878   37167876    ⋯  23754696     35173596    \n",
       "5 23780070     5838666   11111163   17627460    ⋯  20500068     17385894    \n",
       "6  4211979   121132528   12570474    4974127    ⋯   3932507      4589779    \n",
       "  R_26.Post_47 R_26.Pre_48 R_28.Post_49 R_28.Pre_50 NR_10.Post_51 NR_10.Pre_52\n",
       "1 80559896     58957400    76130320     74376768    65792688      194960864   \n",
       "2 51021916     33093636    31312154     27951066    47788776       50067800   \n",
       "3 45050984     25297714    26496618     22352402    35715656       48121812   \n",
       "4 12769630     12790221    12739557     20100892    25795572       53819984   \n",
       "5 21898422     15646760    17069230      7808116    12224238       26033636   \n",
       "6 12964920     20496752     9089169     20601276     7792469       21065250   \n",
       "  NR_11.Post_53 NR_11.Pre_54\n",
       "1 69929272      78145128    \n",
       "2 87764504      50257404    \n",
       "3 34948236      26980310    \n",
       "4 11479106      33682988    \n",
       "5  8252182      17545114    \n",
       "6  2210601       7292686    "
      ]
     },
     "metadata": {},
     "output_type": "display_data"
    }
   ],
   "source": [
    "# let's view our data\n",
    "head(demographics_df)\n",
    "head(proteomics_df)"
   ]
  },
  {
   "cell_type": "markdown",
   "id": "253de730",
   "metadata": {},
   "source": [
    "# 1. Removing Subject Outliers\n",
    "\n",
    "Our `demographics_df`contains 3 subjects (NR_4, NR_9, and R_27) that were deemed as outliers and need to be removed. (This was due to blood contamination and low expression.) The `filter`function will be used to remove these three subjects."
   ]
  },
  {
   "cell_type": "code",
   "execution_count": 4,
   "id": "5d95bfca",
   "metadata": {},
   "outputs": [
    {
     "data": {
      "text/html": [
       "<style>\n",
       ".list-inline {list-style: none; margin:0; padding: 0}\n",
       ".list-inline>li {display: inline-block}\n",
       ".list-inline>li:not(:last-child)::after {content: \"\\00b7\"; padding: 0 .5ex}\n",
       "</style>\n",
       "<ol class=list-inline><li>30</li><li>14</li></ol>\n"
      ],
      "text/latex": [
       "\\begin{enumerate*}\n",
       "\\item 30\n",
       "\\item 14\n",
       "\\end{enumerate*}\n"
      ],
      "text/markdown": [
       "1. 30\n",
       "2. 14\n",
       "\n",
       "\n"
      ],
      "text/plain": [
       "[1] 30 14"
      ]
     },
     "metadata": {},
     "output_type": "display_data"
    },
    {
     "data": {
      "text/html": [
       "<style>\n",
       ".list-inline {list-style: none; margin:0; padding: 0}\n",
       ".list-inline>li {display: inline-block}\n",
       ".list-inline>li:not(:last-child)::after {content: \"\\00b7\"; padding: 0 .5ex}\n",
       "</style>\n",
       "<ol class=list-inline><li>27</li><li>14</li></ol>\n"
      ],
      "text/latex": [
       "\\begin{enumerate*}\n",
       "\\item 27\n",
       "\\item 14\n",
       "\\end{enumerate*}\n"
      ],
      "text/markdown": [
       "1. 27\n",
       "2. 14\n",
       "\n",
       "\n"
      ],
      "text/plain": [
       "[1] 27 14"
      ]
     },
     "metadata": {},
     "output_type": "display_data"
    }
   ],
   "source": [
    "# creating a vector with the subject ids of the outliers\n",
    "outlier_subjects = c(\"NR_4\", \"NR_9\", \"R_27\")\n",
    "\n",
    "# creating a variable that does the opposite of '%in%'\n",
    "`%notin%` = Negate(`%in%`)\n",
    "\n",
    "# removing outliers using the filter function\n",
    "demographics_df_no_outliers = demographics_df %>%\n",
    "    # filtering for subjects not in the outlier_subjects vector\n",
    "    filter(Subject_ID %notin% outlier_subjects)\n",
    "\n",
    "#let's check to see if they were removed\n",
    "dim(demographics_df)\n",
    "dim(demographics_df_no_outliers)"
   ]
  },
  {
   "cell_type": "markdown",
   "id": "b32dd0b9",
   "metadata": {},
   "source": [
    "The `dim` function provides the length (first number) and width (second number) of our data. Since, each subject has one row of information we can see that we now have 3 fewer subjects. "
   ]
  },
  {
   "cell_type": "markdown",
   "id": "3b69d054",
   "metadata": {},
   "source": [
    "# 2. Peptide Normalization\n",
    "\n",
    "Biologically speaking, proteomics normalization is to \"correct for variability that is not coming from the biological system itself, but from th experimental process\" [ref](https://help2.biognosys.com/portal/en/kb/articles/how-is-my-data-normalized-in-spectronaut#:~:text=Default%20normalization%20in%20Spectronaut,-Spectronaut%20default%20settings&text=This%20default%20normalization%20is%20based,peptides%20up%20and%20down%20regulated). Statistically speaking, normalization is used to put all variables on the same scale between 0 and 1. We normalize to total amount of peptide per sample by: \n",
    "\n",
    "1. Summing the abundance values for each sample\n",
    "2. Calculating the median value across all of the summed abundance values\n",
    "3. Calculating the ratio"
   ]
  },
  {
   "cell_type": "code",
   "execution_count": 5,
   "id": "3b1e8d23",
   "metadata": {},
   "outputs": [
    {
     "data": {
      "text/html": [
       "<table class=\"dataframe\">\n",
       "<caption>A tibble: 6 × 7</caption>\n",
       "<thead>\n",
       "\t<tr><th scope=col>Protein_Accession</th><th scope=col>Gene_Name</th><th scope=col>Protein_Descriptions</th><th scope=col>Protein_Name</th><th scope=col>Number_Unique_Peptides</th><th scope=col>Subject_ID.Sample_ID</th><th scope=col>Intensity</th></tr>\n",
       "\t<tr><th scope=col>&lt;chr&gt;</th><th scope=col>&lt;chr&gt;</th><th scope=col>&lt;chr&gt;</th><th scope=col>&lt;chr&gt;</th><th scope=col>&lt;dbl&gt;</th><th scope=col>&lt;chr&gt;</th><th scope=col>&lt;dbl&gt;</th></tr>\n",
       "</thead>\n",
       "<tbody>\n",
       "\t<tr><td>P61626</td><td>LYZ</td><td>Lysozyme C</td><td>LYSC_HUMAN</td><td>21</td><td>NR_1.Post_1</td><td>64819128</td></tr>\n",
       "\t<tr><td>P61626</td><td>LYZ</td><td>Lysozyme C</td><td>LYSC_HUMAN</td><td>21</td><td>NR_1.Pre_2 </td><td>88131664</td></tr>\n",
       "\t<tr><td>P61626</td><td>LYZ</td><td>Lysozyme C</td><td>LYSC_HUMAN</td><td>21</td><td>NR_2.Post_3</td><td>30396704</td></tr>\n",
       "\t<tr><td>P61626</td><td>LYZ</td><td>Lysozyme C</td><td>LYSC_HUMAN</td><td>21</td><td>NR_2.Pre_4 </td><td>38267072</td></tr>\n",
       "\t<tr><td>P61626</td><td>LYZ</td><td>Lysozyme C</td><td>LYSC_HUMAN</td><td>21</td><td>R_16.Post_5</td><td>68394088</td></tr>\n",
       "\t<tr><td>P61626</td><td>LYZ</td><td>Lysozyme C</td><td>LYSC_HUMAN</td><td>21</td><td>R_16.Pre_6 </td><td>50484084</td></tr>\n",
       "</tbody>\n",
       "</table>\n"
      ],
      "text/latex": [
       "A tibble: 6 × 7\n",
       "\\begin{tabular}{lllllll}\n",
       " Protein\\_Accession & Gene\\_Name & Protein\\_Descriptions & Protein\\_Name & Number\\_Unique\\_Peptides & Subject\\_ID.Sample\\_ID & Intensity\\\\\n",
       " <chr> & <chr> & <chr> & <chr> & <dbl> & <chr> & <dbl>\\\\\n",
       "\\hline\n",
       "\t P61626 & LYZ & Lysozyme C & LYSC\\_HUMAN & 21 & NR\\_1.Post\\_1 & 64819128\\\\\n",
       "\t P61626 & LYZ & Lysozyme C & LYSC\\_HUMAN & 21 & NR\\_1.Pre\\_2  & 88131664\\\\\n",
       "\t P61626 & LYZ & Lysozyme C & LYSC\\_HUMAN & 21 & NR\\_2.Post\\_3 & 30396704\\\\\n",
       "\t P61626 & LYZ & Lysozyme C & LYSC\\_HUMAN & 21 & NR\\_2.Pre\\_4  & 38267072\\\\\n",
       "\t P61626 & LYZ & Lysozyme C & LYSC\\_HUMAN & 21 & R\\_16.Post\\_5 & 68394088\\\\\n",
       "\t P61626 & LYZ & Lysozyme C & LYSC\\_HUMAN & 21 & R\\_16.Pre\\_6  & 50484084\\\\\n",
       "\\end{tabular}\n"
      ],
      "text/markdown": [
       "\n",
       "A tibble: 6 × 7\n",
       "\n",
       "| Protein_Accession &lt;chr&gt; | Gene_Name &lt;chr&gt; | Protein_Descriptions &lt;chr&gt; | Protein_Name &lt;chr&gt; | Number_Unique_Peptides &lt;dbl&gt; | Subject_ID.Sample_ID &lt;chr&gt; | Intensity &lt;dbl&gt; |\n",
       "|---|---|---|---|---|---|---|\n",
       "| P61626 | LYZ | Lysozyme C | LYSC_HUMAN | 21 | NR_1.Post_1 | 64819128 |\n",
       "| P61626 | LYZ | Lysozyme C | LYSC_HUMAN | 21 | NR_1.Pre_2  | 88131664 |\n",
       "| P61626 | LYZ | Lysozyme C | LYSC_HUMAN | 21 | NR_2.Post_3 | 30396704 |\n",
       "| P61626 | LYZ | Lysozyme C | LYSC_HUMAN | 21 | NR_2.Pre_4  | 38267072 |\n",
       "| P61626 | LYZ | Lysozyme C | LYSC_HUMAN | 21 | R_16.Post_5 | 68394088 |\n",
       "| P61626 | LYZ | Lysozyme C | LYSC_HUMAN | 21 | R_16.Pre_6  | 50484084 |\n",
       "\n"
      ],
      "text/plain": [
       "  Protein_Accession Gene_Name Protein_Descriptions Protein_Name\n",
       "1 P61626            LYZ       Lysozyme C           LYSC_HUMAN  \n",
       "2 P61626            LYZ       Lysozyme C           LYSC_HUMAN  \n",
       "3 P61626            LYZ       Lysozyme C           LYSC_HUMAN  \n",
       "4 P61626            LYZ       Lysozyme C           LYSC_HUMAN  \n",
       "5 P61626            LYZ       Lysozyme C           LYSC_HUMAN  \n",
       "6 P61626            LYZ       Lysozyme C           LYSC_HUMAN  \n",
       "  Number_Unique_Peptides Subject_ID.Sample_ID Intensity\n",
       "1 21                     NR_1.Post_1          64819128 \n",
       "2 21                     NR_1.Pre_2           88131664 \n",
       "3 21                     NR_2.Post_3          30396704 \n",
       "4 21                     NR_2.Pre_4           38267072 \n",
       "5 21                     R_16.Post_5          68394088 \n",
       "6 21                     R_16.Pre_6           50484084 "
      ]
     },
     "metadata": {},
     "output_type": "display_data"
    }
   ],
   "source": [
    "# merging the demographics_df and proteomics_df but doing some reshaping first\n",
    "# telling the pivot_longer function to only pivot the concentration data (columns 6 through 59)\n",
    "# the two columns for the names and values can be renamed \n",
    "longer_proteomics_df = pivot_longer(proteomics_df, cols = 6:59, names_to = \"Subject_ID.Sample_ID\", \n",
    "                                    values_to = \"Intensity\")\n",
    "\n",
    "# viewing data\n",
    "head(longer_proteomics_df)"
   ]
  },
  {
   "cell_type": "code",
   "execution_count": 6,
   "id": "ccd7a939",
   "metadata": {},
   "outputs": [
    {
     "name": "stderr",
     "output_type": "stream",
     "text": [
      "Warning message:\n",
      "“Expected 2 pieces. Additional pieces discarded in 2244 rows [7, 61, 115, 169, 223, 277, 331, 385, 439, 493, 547, 601, 655, 709, 763, 817, 871, 925, 979, 1033, ...].”\n"
     ]
    },
    {
     "data": {
      "text/html": [
       "<table class=\"dataframe\">\n",
       "<caption>A tibble: 6 × 8</caption>\n",
       "<thead>\n",
       "\t<tr><th scope=col>Protein_Accession</th><th scope=col>Gene_Name</th><th scope=col>Protein_Descriptions</th><th scope=col>Protein_Name</th><th scope=col>Number_Unique_Peptides</th><th scope=col>Subject_ID</th><th scope=col>Sample_ID</th><th scope=col>Intensity</th></tr>\n",
       "\t<tr><th scope=col>&lt;chr&gt;</th><th scope=col>&lt;chr&gt;</th><th scope=col>&lt;chr&gt;</th><th scope=col>&lt;chr&gt;</th><th scope=col>&lt;dbl&gt;</th><th scope=col>&lt;chr&gt;</th><th scope=col>&lt;chr&gt;</th><th scope=col>&lt;dbl&gt;</th></tr>\n",
       "</thead>\n",
       "<tbody>\n",
       "\t<tr><td>P61626</td><td>LYZ</td><td>Lysozyme C</td><td>LYSC_HUMAN</td><td>21</td><td>NR_1</td><td>Post_1</td><td>64819128</td></tr>\n",
       "\t<tr><td>P61626</td><td>LYZ</td><td>Lysozyme C</td><td>LYSC_HUMAN</td><td>21</td><td>NR_1</td><td>Pre_2 </td><td>88131664</td></tr>\n",
       "\t<tr><td>P61626</td><td>LYZ</td><td>Lysozyme C</td><td>LYSC_HUMAN</td><td>21</td><td>NR_2</td><td>Post_3</td><td>30396704</td></tr>\n",
       "\t<tr><td>P61626</td><td>LYZ</td><td>Lysozyme C</td><td>LYSC_HUMAN</td><td>21</td><td>NR_2</td><td>Pre_4 </td><td>38267072</td></tr>\n",
       "\t<tr><td>P61626</td><td>LYZ</td><td>Lysozyme C</td><td>LYSC_HUMAN</td><td>21</td><td>R_16</td><td>Post_5</td><td>68394088</td></tr>\n",
       "\t<tr><td>P61626</td><td>LYZ</td><td>Lysozyme C</td><td>LYSC_HUMAN</td><td>21</td><td>R_16</td><td>Pre_6 </td><td>50484084</td></tr>\n",
       "</tbody>\n",
       "</table>\n"
      ],
      "text/latex": [
       "A tibble: 6 × 8\n",
       "\\begin{tabular}{llllllll}\n",
       " Protein\\_Accession & Gene\\_Name & Protein\\_Descriptions & Protein\\_Name & Number\\_Unique\\_Peptides & Subject\\_ID & Sample\\_ID & Intensity\\\\\n",
       " <chr> & <chr> & <chr> & <chr> & <dbl> & <chr> & <chr> & <dbl>\\\\\n",
       "\\hline\n",
       "\t P61626 & LYZ & Lysozyme C & LYSC\\_HUMAN & 21 & NR\\_1 & Post\\_1 & 64819128\\\\\n",
       "\t P61626 & LYZ & Lysozyme C & LYSC\\_HUMAN & 21 & NR\\_1 & Pre\\_2  & 88131664\\\\\n",
       "\t P61626 & LYZ & Lysozyme C & LYSC\\_HUMAN & 21 & NR\\_2 & Post\\_3 & 30396704\\\\\n",
       "\t P61626 & LYZ & Lysozyme C & LYSC\\_HUMAN & 21 & NR\\_2 & Pre\\_4  & 38267072\\\\\n",
       "\t P61626 & LYZ & Lysozyme C & LYSC\\_HUMAN & 21 & R\\_16 & Post\\_5 & 68394088\\\\\n",
       "\t P61626 & LYZ & Lysozyme C & LYSC\\_HUMAN & 21 & R\\_16 & Pre\\_6  & 50484084\\\\\n",
       "\\end{tabular}\n"
      ],
      "text/markdown": [
       "\n",
       "A tibble: 6 × 8\n",
       "\n",
       "| Protein_Accession &lt;chr&gt; | Gene_Name &lt;chr&gt; | Protein_Descriptions &lt;chr&gt; | Protein_Name &lt;chr&gt; | Number_Unique_Peptides &lt;dbl&gt; | Subject_ID &lt;chr&gt; | Sample_ID &lt;chr&gt; | Intensity &lt;dbl&gt; |\n",
       "|---|---|---|---|---|---|---|---|\n",
       "| P61626 | LYZ | Lysozyme C | LYSC_HUMAN | 21 | NR_1 | Post_1 | 64819128 |\n",
       "| P61626 | LYZ | Lysozyme C | LYSC_HUMAN | 21 | NR_1 | Pre_2  | 88131664 |\n",
       "| P61626 | LYZ | Lysozyme C | LYSC_HUMAN | 21 | NR_2 | Post_3 | 30396704 |\n",
       "| P61626 | LYZ | Lysozyme C | LYSC_HUMAN | 21 | NR_2 | Pre_4  | 38267072 |\n",
       "| P61626 | LYZ | Lysozyme C | LYSC_HUMAN | 21 | R_16 | Post_5 | 68394088 |\n",
       "| P61626 | LYZ | Lysozyme C | LYSC_HUMAN | 21 | R_16 | Pre_6  | 50484084 |\n",
       "\n"
      ],
      "text/plain": [
       "  Protein_Accession Gene_Name Protein_Descriptions Protein_Name\n",
       "1 P61626            LYZ       Lysozyme C           LYSC_HUMAN  \n",
       "2 P61626            LYZ       Lysozyme C           LYSC_HUMAN  \n",
       "3 P61626            LYZ       Lysozyme C           LYSC_HUMAN  \n",
       "4 P61626            LYZ       Lysozyme C           LYSC_HUMAN  \n",
       "5 P61626            LYZ       Lysozyme C           LYSC_HUMAN  \n",
       "6 P61626            LYZ       Lysozyme C           LYSC_HUMAN  \n",
       "  Number_Unique_Peptides Subject_ID Sample_ID Intensity\n",
       "1 21                     NR_1       Post_1    64819128 \n",
       "2 21                     NR_1       Pre_2     88131664 \n",
       "3 21                     NR_2       Post_3    30396704 \n",
       "4 21                     NR_2       Pre_4     38267072 \n",
       "5 21                     R_16       Post_5    68394088 \n",
       "6 21                     R_16       Pre_6     50484084 "
      ]
     },
     "metadata": {},
     "output_type": "display_data"
    }
   ],
   "source": [
    "longer_proteomics_separated_df = longer_proteomics_df %>%\n",
    "    # in the separate function a period needs to be specified by \"\\\\.\" not \".\"\n",
    "    # the second parameter is used to specify the new column names\n",
    "    separate(Subject_ID.Sample_ID, c(\"Subject_ID\", \"Sample_ID\"), sep = \"\\\\.\")\n",
    "\n",
    "# viewing data\n",
    "head(longer_proteomics_separated_df)"
   ]
  },
  {
   "cell_type": "code",
   "execution_count": 7,
   "id": "49083a51",
   "metadata": {},
   "outputs": [
    {
     "data": {
      "text/html": [
       "<table class=\"dataframe\">\n",
       "<caption>A tibble: 6 × 9</caption>\n",
       "<thead>\n",
       "\t<tr><th scope=col>Protein_Accession</th><th scope=col>Gene_Name</th><th scope=col>Protein_Descriptions</th><th scope=col>Protein_Name</th><th scope=col>Number_Unique_Peptides</th><th scope=col>Subject_ID</th><th scope=col>Sample_ID</th><th scope=col>Intensity</th><th scope=col>Norm_Intensity</th></tr>\n",
       "\t<tr><th scope=col>&lt;chr&gt;</th><th scope=col>&lt;chr&gt;</th><th scope=col>&lt;chr&gt;</th><th scope=col>&lt;chr&gt;</th><th scope=col>&lt;dbl&gt;</th><th scope=col>&lt;chr&gt;</th><th scope=col>&lt;chr&gt;</th><th scope=col>&lt;dbl&gt;</th><th scope=col>&lt;dbl&gt;</th></tr>\n",
       "</thead>\n",
       "<tbody>\n",
       "\t<tr><td>P61626</td><td>LYZ</td><td>Lysozyme C</td><td>LYSC_HUMAN</td><td>21</td><td>NR_1</td><td>Post_1</td><td>64819128</td><td>73788698</td></tr>\n",
       "\t<tr><td>P61626</td><td>LYZ</td><td>Lysozyme C</td><td>LYSC_HUMAN</td><td>21</td><td>NR_1</td><td>Pre_2 </td><td>88131664</td><td>81867432</td></tr>\n",
       "\t<tr><td>P61626</td><td>LYZ</td><td>Lysozyme C</td><td>LYSC_HUMAN</td><td>21</td><td>NR_2</td><td>Post_3</td><td>30396704</td><td>32521080</td></tr>\n",
       "\t<tr><td>P61626</td><td>LYZ</td><td>Lysozyme C</td><td>LYSC_HUMAN</td><td>21</td><td>NR_2</td><td>Pre_4 </td><td>38267072</td><td>69466047</td></tr>\n",
       "\t<tr><td>P61626</td><td>LYZ</td><td>Lysozyme C</td><td>LYSC_HUMAN</td><td>21</td><td>R_16</td><td>Post_5</td><td>68394088</td><td>67261698</td></tr>\n",
       "\t<tr><td>P61626</td><td>LYZ</td><td>Lysozyme C</td><td>LYSC_HUMAN</td><td>21</td><td>R_16</td><td>Pre_6 </td><td>50484084</td><td>54090669</td></tr>\n",
       "</tbody>\n",
       "</table>\n"
      ],
      "text/latex": [
       "A tibble: 6 × 9\n",
       "\\begin{tabular}{lllllllll}\n",
       " Protein\\_Accession & Gene\\_Name & Protein\\_Descriptions & Protein\\_Name & Number\\_Unique\\_Peptides & Subject\\_ID & Sample\\_ID & Intensity & Norm\\_Intensity\\\\\n",
       " <chr> & <chr> & <chr> & <chr> & <dbl> & <chr> & <chr> & <dbl> & <dbl>\\\\\n",
       "\\hline\n",
       "\t P61626 & LYZ & Lysozyme C & LYSC\\_HUMAN & 21 & NR\\_1 & Post\\_1 & 64819128 & 73788698\\\\\n",
       "\t P61626 & LYZ & Lysozyme C & LYSC\\_HUMAN & 21 & NR\\_1 & Pre\\_2  & 88131664 & 81867432\\\\\n",
       "\t P61626 & LYZ & Lysozyme C & LYSC\\_HUMAN & 21 & NR\\_2 & Post\\_3 & 30396704 & 32521080\\\\\n",
       "\t P61626 & LYZ & Lysozyme C & LYSC\\_HUMAN & 21 & NR\\_2 & Pre\\_4  & 38267072 & 69466047\\\\\n",
       "\t P61626 & LYZ & Lysozyme C & LYSC\\_HUMAN & 21 & R\\_16 & Post\\_5 & 68394088 & 67261698\\\\\n",
       "\t P61626 & LYZ & Lysozyme C & LYSC\\_HUMAN & 21 & R\\_16 & Pre\\_6  & 50484084 & 54090669\\\\\n",
       "\\end{tabular}\n"
      ],
      "text/markdown": [
       "\n",
       "A tibble: 6 × 9\n",
       "\n",
       "| Protein_Accession &lt;chr&gt; | Gene_Name &lt;chr&gt; | Protein_Descriptions &lt;chr&gt; | Protein_Name &lt;chr&gt; | Number_Unique_Peptides &lt;dbl&gt; | Subject_ID &lt;chr&gt; | Sample_ID &lt;chr&gt; | Intensity &lt;dbl&gt; | Norm_Intensity &lt;dbl&gt; |\n",
       "|---|---|---|---|---|---|---|---|---|\n",
       "| P61626 | LYZ | Lysozyme C | LYSC_HUMAN | 21 | NR_1 | Post_1 | 64819128 | 73788698 |\n",
       "| P61626 | LYZ | Lysozyme C | LYSC_HUMAN | 21 | NR_1 | Pre_2  | 88131664 | 81867432 |\n",
       "| P61626 | LYZ | Lysozyme C | LYSC_HUMAN | 21 | NR_2 | Post_3 | 30396704 | 32521080 |\n",
       "| P61626 | LYZ | Lysozyme C | LYSC_HUMAN | 21 | NR_2 | Pre_4  | 38267072 | 69466047 |\n",
       "| P61626 | LYZ | Lysozyme C | LYSC_HUMAN | 21 | R_16 | Post_5 | 68394088 | 67261698 |\n",
       "| P61626 | LYZ | Lysozyme C | LYSC_HUMAN | 21 | R_16 | Pre_6  | 50484084 | 54090669 |\n",
       "\n"
      ],
      "text/plain": [
       "  Protein_Accession Gene_Name Protein_Descriptions Protein_Name\n",
       "1 P61626            LYZ       Lysozyme C           LYSC_HUMAN  \n",
       "2 P61626            LYZ       Lysozyme C           LYSC_HUMAN  \n",
       "3 P61626            LYZ       Lysozyme C           LYSC_HUMAN  \n",
       "4 P61626            LYZ       Lysozyme C           LYSC_HUMAN  \n",
       "5 P61626            LYZ       Lysozyme C           LYSC_HUMAN  \n",
       "6 P61626            LYZ       Lysozyme C           LYSC_HUMAN  \n",
       "  Number_Unique_Peptides Subject_ID Sample_ID Intensity Norm_Intensity\n",
       "1 21                     NR_1       Post_1    64819128  73788698      \n",
       "2 21                     NR_1       Pre_2     88131664  81867432      \n",
       "3 21                     NR_2       Post_3    30396704  32521080      \n",
       "4 21                     NR_2       Pre_4     38267072  69466047      \n",
       "5 21                     R_16       Post_5    68394088  67261698      \n",
       "6 21                     R_16       Pre_6     50484084  54090669      "
      ]
     },
     "metadata": {},
     "output_type": "display_data"
    }
   ],
   "source": [
    "normalized_df = longer_proteomics_separated_df %>%\n",
    "    # grouping by sample\n",
    "    group_by(Sample_ID) %>%\n",
    "    # taking the sum of the intensities for each sample\n",
    "    mutate(Summed_Value = sum(Intensity)) %>%\n",
    "    # calculating median across all samples \n",
    "    ungroup() %>%\n",
    "    mutate(Median_of_Sum = median(Summed_Value), Norm_Factor = Summed_Value/ Median_of_Sum, \n",
    "           Norm_Intensity = Intensity/Norm_Factor) %>%\n",
    "    # using the select function to remove columns we no longer need\n",
    "    select(-c(\"Summed_Value\", \"Median_of_Sum\", \"Norm_Factor\"))\n",
    "\n",
    "# viewing data\n",
    "head(normalized_df)"
   ]
  },
  {
   "cell_type": "markdown",
   "id": "2b651401",
   "metadata": {},
   "source": [
    "# 3a. Detection Filter\n",
    "\n",
    "Retaining proteins that were identified by at least 2 peptides. "
   ]
  },
  {
   "cell_type": "code",
   "execution_count": 8,
   "id": "e9544dc1",
   "metadata": {},
   "outputs": [
    {
     "data": {
      "text/html": [
       "<table class=\"dataframe\">\n",
       "<caption>A tibble: 6 × 9</caption>\n",
       "<thead>\n",
       "\t<tr><th scope=col>Protein_Accession</th><th scope=col>Gene_Name</th><th scope=col>Protein_Descriptions</th><th scope=col>Protein_Name</th><th scope=col>Number_Unique_Peptides</th><th scope=col>Subject_ID</th><th scope=col>Sample_ID</th><th scope=col>Intensity</th><th scope=col>Norm_Intensity</th></tr>\n",
       "\t<tr><th scope=col>&lt;chr&gt;</th><th scope=col>&lt;chr&gt;</th><th scope=col>&lt;chr&gt;</th><th scope=col>&lt;chr&gt;</th><th scope=col>&lt;dbl&gt;</th><th scope=col>&lt;chr&gt;</th><th scope=col>&lt;chr&gt;</th><th scope=col>&lt;dbl&gt;</th><th scope=col>&lt;dbl&gt;</th></tr>\n",
       "</thead>\n",
       "<tbody>\n",
       "\t<tr><td>P61626</td><td>LYZ</td><td>Lysozyme C</td><td>LYSC_HUMAN</td><td>21</td><td>NR_1</td><td>Post_1</td><td>64819128</td><td>73788698</td></tr>\n",
       "\t<tr><td>P61626</td><td>LYZ</td><td>Lysozyme C</td><td>LYSC_HUMAN</td><td>21</td><td>NR_1</td><td>Pre_2 </td><td>88131664</td><td>81867432</td></tr>\n",
       "\t<tr><td>P61626</td><td>LYZ</td><td>Lysozyme C</td><td>LYSC_HUMAN</td><td>21</td><td>NR_2</td><td>Post_3</td><td>30396704</td><td>32521080</td></tr>\n",
       "\t<tr><td>P61626</td><td>LYZ</td><td>Lysozyme C</td><td>LYSC_HUMAN</td><td>21</td><td>NR_2</td><td>Pre_4 </td><td>38267072</td><td>69466047</td></tr>\n",
       "\t<tr><td>P61626</td><td>LYZ</td><td>Lysozyme C</td><td>LYSC_HUMAN</td><td>21</td><td>R_16</td><td>Post_5</td><td>68394088</td><td>67261698</td></tr>\n",
       "\t<tr><td>P61626</td><td>LYZ</td><td>Lysozyme C</td><td>LYSC_HUMAN</td><td>21</td><td>R_16</td><td>Pre_6 </td><td>50484084</td><td>54090669</td></tr>\n",
       "</tbody>\n",
       "</table>\n"
      ],
      "text/latex": [
       "A tibble: 6 × 9\n",
       "\\begin{tabular}{lllllllll}\n",
       " Protein\\_Accession & Gene\\_Name & Protein\\_Descriptions & Protein\\_Name & Number\\_Unique\\_Peptides & Subject\\_ID & Sample\\_ID & Intensity & Norm\\_Intensity\\\\\n",
       " <chr> & <chr> & <chr> & <chr> & <dbl> & <chr> & <chr> & <dbl> & <dbl>\\\\\n",
       "\\hline\n",
       "\t P61626 & LYZ & Lysozyme C & LYSC\\_HUMAN & 21 & NR\\_1 & Post\\_1 & 64819128 & 73788698\\\\\n",
       "\t P61626 & LYZ & Lysozyme C & LYSC\\_HUMAN & 21 & NR\\_1 & Pre\\_2  & 88131664 & 81867432\\\\\n",
       "\t P61626 & LYZ & Lysozyme C & LYSC\\_HUMAN & 21 & NR\\_2 & Post\\_3 & 30396704 & 32521080\\\\\n",
       "\t P61626 & LYZ & Lysozyme C & LYSC\\_HUMAN & 21 & NR\\_2 & Pre\\_4  & 38267072 & 69466047\\\\\n",
       "\t P61626 & LYZ & Lysozyme C & LYSC\\_HUMAN & 21 & R\\_16 & Post\\_5 & 68394088 & 67261698\\\\\n",
       "\t P61626 & LYZ & Lysozyme C & LYSC\\_HUMAN & 21 & R\\_16 & Pre\\_6  & 50484084 & 54090669\\\\\n",
       "\\end{tabular}\n"
      ],
      "text/markdown": [
       "\n",
       "A tibble: 6 × 9\n",
       "\n",
       "| Protein_Accession &lt;chr&gt; | Gene_Name &lt;chr&gt; | Protein_Descriptions &lt;chr&gt; | Protein_Name &lt;chr&gt; | Number_Unique_Peptides &lt;dbl&gt; | Subject_ID &lt;chr&gt; | Sample_ID &lt;chr&gt; | Intensity &lt;dbl&gt; | Norm_Intensity &lt;dbl&gt; |\n",
       "|---|---|---|---|---|---|---|---|---|\n",
       "| P61626 | LYZ | Lysozyme C | LYSC_HUMAN | 21 | NR_1 | Post_1 | 64819128 | 73788698 |\n",
       "| P61626 | LYZ | Lysozyme C | LYSC_HUMAN | 21 | NR_1 | Pre_2  | 88131664 | 81867432 |\n",
       "| P61626 | LYZ | Lysozyme C | LYSC_HUMAN | 21 | NR_2 | Post_3 | 30396704 | 32521080 |\n",
       "| P61626 | LYZ | Lysozyme C | LYSC_HUMAN | 21 | NR_2 | Pre_4  | 38267072 | 69466047 |\n",
       "| P61626 | LYZ | Lysozyme C | LYSC_HUMAN | 21 | R_16 | Post_5 | 68394088 | 67261698 |\n",
       "| P61626 | LYZ | Lysozyme C | LYSC_HUMAN | 21 | R_16 | Pre_6  | 50484084 | 54090669 |\n",
       "\n"
      ],
      "text/plain": [
       "  Protein_Accession Gene_Name Protein_Descriptions Protein_Name\n",
       "1 P61626            LYZ       Lysozyme C           LYSC_HUMAN  \n",
       "2 P61626            LYZ       Lysozyme C           LYSC_HUMAN  \n",
       "3 P61626            LYZ       Lysozyme C           LYSC_HUMAN  \n",
       "4 P61626            LYZ       Lysozyme C           LYSC_HUMAN  \n",
       "5 P61626            LYZ       Lysozyme C           LYSC_HUMAN  \n",
       "6 P61626            LYZ       Lysozyme C           LYSC_HUMAN  \n",
       "  Number_Unique_Peptides Subject_ID Sample_ID Intensity Norm_Intensity\n",
       "1 21                     NR_1       Post_1    64819128  73788698      \n",
       "2 21                     NR_1       Pre_2     88131664  81867432      \n",
       "3 21                     NR_2       Post_3    30396704  32521080      \n",
       "4 21                     NR_2       Pre_4     38267072  69466047      \n",
       "5 21                     R_16       Post_5    68394088  67261698      \n",
       "6 21                     R_16       Pre_6     50484084  54090669      "
      ]
     },
     "metadata": {},
     "output_type": "display_data"
    },
    {
     "data": {
      "text/html": [
       "<table class=\"dataframe\">\n",
       "<caption>A tibble: 1 × 1</caption>\n",
       "<thead>\n",
       "\t<tr><th scope=col>Remaining Proteins</th></tr>\n",
       "\t<tr><th scope=col>&lt;int&gt;</th></tr>\n",
       "</thead>\n",
       "<tbody>\n",
       "\t<tr><td>1878</td></tr>\n",
       "</tbody>\n",
       "</table>\n"
      ],
      "text/latex": [
       "A tibble: 1 × 1\n",
       "\\begin{tabular}{l}\n",
       " Remaining Proteins\\\\\n",
       " <int>\\\\\n",
       "\\hline\n",
       "\t 1878\\\\\n",
       "\\end{tabular}\n"
      ],
      "text/markdown": [
       "\n",
       "A tibble: 1 × 1\n",
       "\n",
       "| Remaining Proteins &lt;int&gt; |\n",
       "|---|\n",
       "| 1878 |\n",
       "\n"
      ],
      "text/plain": [
       "  Remaining Proteins\n",
       "1 1878              "
      ]
     },
     "metadata": {},
     "output_type": "display_data"
    }
   ],
   "source": [
    "# only keeping proteins > 2 unique proteins\n",
    "detection_filter_1_df = normalized_df %>%\n",
    "    filter(Number_Unique_Peptides > 2) \n",
    "head(detection_filter_1_df)\n",
    "\n",
    "# determining how many proteins are kept for each exposure group\n",
    "detection_filter_1_df %>%\n",
    "    summarize(`Remaining Proteins` = length(unique(Protein_Accession)))"
   ]
  },
  {
   "cell_type": "code",
   "execution_count": 9,
   "id": "c6a9e174",
   "metadata": {},
   "outputs": [
    {
     "data": {
      "text/html": [
       "366"
      ],
      "text/latex": [
       "366"
      ],
      "text/markdown": [
       "366"
      ],
      "text/plain": [
       "[1] 366"
      ]
     },
     "metadata": {},
     "output_type": "display_data"
    }
   ],
   "source": [
    "# figuring out the number of proteins that were removed\n",
    "length(unique(normalized_df$Protein_Accession)) - length(unique(detection_filter_1_df$Protein_Accession))"
   ]
  },
  {
   "cell_type": "markdown",
   "id": "068f54b3",
   "metadata": {},
   "source": [
    "# 3b. Detection Filter\n",
    "\n",
    "Filter rows based on valid values: 50 % valid in either pre or post woodsmoke exposure (i.e. proteins with values observed in fewer than 50% of samples in at least 1 condition were eliminated from the dataset)"
   ]
  },
  {
   "cell_type": "code",
   "execution_count": 10,
   "id": "99bd757b",
   "metadata": {},
   "outputs": [
    {
     "data": {
      "text/html": [
       "<table class=\"dataframe\">\n",
       "<caption>A tibble: 0 × 2</caption>\n",
       "<thead>\n",
       "\t<tr><th scope=col>Protein_Accession</th><th scope=col>Protein_Presence</th></tr>\n",
       "\t<tr><th scope=col>&lt;chr&gt;</th><th scope=col>&lt;dbl&gt;</th></tr>\n",
       "</thead>\n",
       "<tbody>\n",
       "</tbody>\n",
       "</table>\n"
      ],
      "text/latex": [
       "A tibble: 0 × 2\n",
       "\\begin{tabular}{ll}\n",
       " Protein\\_Accession & Protein\\_Presence\\\\\n",
       " <chr> & <dbl>\\\\\n",
       "\\hline\n",
       "\\end{tabular}\n"
      ],
      "text/markdown": [
       "\n",
       "A tibble: 0 × 2\n",
       "\n",
       "| Protein_Accession &lt;chr&gt; | Protein_Presence &lt;dbl&gt; |\n",
       "|---|---|\n",
       "\n"
      ],
      "text/plain": [
       "     Protein_Accession Protein_Presence"
      ]
     },
     "metadata": {},
     "output_type": "display_data"
    }
   ],
   "source": [
    "protein_presence_df = detection_filter_1_df %>%\n",
    "    # creating 2 count cols: 1st for non-missing data, 2nd for all data\n",
    "    mutate(data_count = ifelse(is.na(Intensity), 0, 1), all_count = 1) %>%\n",
    "    group_by(Protein_Accession) %>%\n",
    "    summarize(Protein_Presence = sum(data_count)/ sum(all_count) * 100) %>%\n",
    "    filter(Protein_Presence < 50) %>%\n",
    "    arrange(Protein_Presence) \n",
    "\n",
    "head(protein_presence_df)"
   ]
  },
  {
   "cell_type": "markdown",
   "id": "a8e705e4",
   "metadata": {},
   "source": [
    "This empty tibble indicates that there were no proteins that had missing data for more than 50% of samples. "
   ]
  },
  {
   "cell_type": "code",
   "execution_count": 11,
   "id": "128a7e1c",
   "metadata": {},
   "outputs": [
    {
     "data": {
      "text/html": [
       "<style>\n",
       ".list-inline {list-style: none; margin:0; padding: 0}\n",
       ".list-inline>li {display: inline-block}\n",
       ".list-inline>li:not(:last-child)::after {content: \"\\00b7\"; padding: 0 .5ex}\n",
       "</style>\n",
       "<ol class=list-inline><li>101412</li><li>9</li></ol>\n"
      ],
      "text/latex": [
       "\\begin{enumerate*}\n",
       "\\item 101412\n",
       "\\item 9\n",
       "\\end{enumerate*}\n"
      ],
      "text/markdown": [
       "1. 101412\n",
       "2. 9\n",
       "\n",
       "\n"
      ],
      "text/plain": [
       "[1] 101412      9"
      ]
     },
     "metadata": {},
     "output_type": "display_data"
    },
    {
     "data": {
      "text/html": [
       "<style>\n",
       ".list-inline {list-style: none; margin:0; padding: 0}\n",
       ".list-inline>li {display: inline-block}\n",
       ".list-inline>li:not(:last-child)::after {content: \"\\00b7\"; padding: 0 .5ex}\n",
       "</style>\n",
       "<ol class=list-inline><li>101142</li><li>9</li></ol>\n"
      ],
      "text/latex": [
       "\\begin{enumerate*}\n",
       "\\item 101142\n",
       "\\item 9\n",
       "\\end{enumerate*}\n"
      ],
      "text/markdown": [
       "1. 101142\n",
       "2. 9\n",
       "\n",
       "\n"
      ],
      "text/plain": [
       "[1] 101142      9"
      ]
     },
     "metadata": {},
     "output_type": "display_data"
    }
   ],
   "source": [
    "# let's see if there's any missing data\n",
    "dim(detection_filter_1_df)\n",
    "dim(drop_na(detection_filter_1_df))"
   ]
  },
  {
   "cell_type": "markdown",
   "id": "c03676c3",
   "metadata": {},
   "source": [
    "# 4. Imputation of Missing Data\n",
    "Quantile Regression Imputation of Left Censored Data (QRILC) replaces data with left-censored data from a Gaussian distribution. We're assuming most of the missing data is due to low expression levels and low detection, therefore this method will be used.\n",
    "\n",
    "First, we need to create another column specifically for the time point, since QRILC will be performed on each time point separately."
   ]
  },
  {
   "cell_type": "code",
   "execution_count": 12,
   "id": "66ca2492",
   "metadata": {},
   "outputs": [
    {
     "data": {
      "text/html": [
       "<table class=\"dataframe\">\n",
       "<caption>A tibble: 6 × 4</caption>\n",
       "<thead>\n",
       "\t<tr><th scope=col>Subject_ID</th><th scope=col>Sample_ID</th><th scope=col>Protein_Accession</th><th scope=col>Imputed_Norm_Intensity</th></tr>\n",
       "\t<tr><th scope=col>&lt;chr&gt;</th><th scope=col>&lt;chr&gt;</th><th scope=col>&lt;chr&gt;</th><th scope=col>&lt;dbl&gt;</th></tr>\n",
       "</thead>\n",
       "<tbody>\n",
       "\t<tr><td>NR_1</td><td>Post_1</td><td>P61626              </td><td>73788697</td></tr>\n",
       "\t<tr><td>NR_1</td><td>Post_1</td><td>P01877              </td><td>25112912</td></tr>\n",
       "\t<tr><td>NR_1</td><td>Post_1</td><td>P01876              </td><td>17621630</td></tr>\n",
       "\t<tr><td>NR_1</td><td>Post_1</td><td>P02768              </td><td>28010795</td></tr>\n",
       "\t<tr><td>NR_1</td><td>Post_1</td><td>P01834              </td><td>11670212</td></tr>\n",
       "\t<tr><td>NR_1</td><td>Post_1</td><td>P0DTE7.P0DTE8.P0DUB6</td><td>17229358</td></tr>\n",
       "</tbody>\n",
       "</table>\n"
      ],
      "text/latex": [
       "A tibble: 6 × 4\n",
       "\\begin{tabular}{llll}\n",
       " Subject\\_ID & Sample\\_ID & Protein\\_Accession & Imputed\\_Norm\\_Intensity\\\\\n",
       " <chr> & <chr> & <chr> & <dbl>\\\\\n",
       "\\hline\n",
       "\t NR\\_1 & Post\\_1 & P61626               & 73788697\\\\\n",
       "\t NR\\_1 & Post\\_1 & P01877               & 25112912\\\\\n",
       "\t NR\\_1 & Post\\_1 & P01876               & 17621630\\\\\n",
       "\t NR\\_1 & Post\\_1 & P02768               & 28010795\\\\\n",
       "\t NR\\_1 & Post\\_1 & P01834               & 11670212\\\\\n",
       "\t NR\\_1 & Post\\_1 & P0DTE7.P0DTE8.P0DUB6 & 17229358\\\\\n",
       "\\end{tabular}\n"
      ],
      "text/markdown": [
       "\n",
       "A tibble: 6 × 4\n",
       "\n",
       "| Subject_ID &lt;chr&gt; | Sample_ID &lt;chr&gt; | Protein_Accession &lt;chr&gt; | Imputed_Norm_Intensity &lt;dbl&gt; |\n",
       "|---|---|---|---|\n",
       "| NR_1 | Post_1 | P61626               | 73788697 |\n",
       "| NR_1 | Post_1 | P01877               | 25112912 |\n",
       "| NR_1 | Post_1 | P01876               | 17621630 |\n",
       "| NR_1 | Post_1 | P02768               | 28010795 |\n",
       "| NR_1 | Post_1 | P01834               | 11670212 |\n",
       "| NR_1 | Post_1 | P0DTE7.P0DTE8.P0DUB6 | 17229358 |\n",
       "\n"
      ],
      "text/plain": [
       "  Subject_ID Sample_ID Protein_Accession    Imputed_Norm_Intensity\n",
       "1 NR_1       Post_1    P61626               73788697              \n",
       "2 NR_1       Post_1    P01877               25112912              \n",
       "3 NR_1       Post_1    P01876               17621630              \n",
       "4 NR_1       Post_1    P02768               28010795              \n",
       "5 NR_1       Post_1    P01834               11670212              \n",
       "6 NR_1       Post_1    P0DTE7.P0DTE8.P0DUB6 17229358              "
      ]
     },
     "metadata": {},
     "output_type": "display_data"
    }
   ],
   "source": [
    "QRILC_imputation = function(dataset){\n",
    "    # \"\"\"\n",
    "    # Creating a quantile normalization function to normalize each sample.\n",
    "    # :param (input): preimputed df\n",
    "    # :output: 1 quantile normalized df\n",
    "    # \"\"\"\n",
    "    wider_dataset = dataset %>%\n",
    "        select(c(\"Subject_ID\", \"Sample_ID\", \"Protein_Accession\", \"Norm_Intensity\")) %>%\n",
    "        pivot_wider(names_from = Protein_Accession, values_from = Norm_Intensity) \n",
    "    \n",
    "    # normalizing data since that's what the QRILC function requires\n",
    "    QRILC_prep = wider_dataset[,3:dim(wider_dataset)[2]] %>%\n",
    "         mutate_all(., function(x) log2(x)) %>%\n",
    "         as.matrix()\n",
    "    \n",
    "    imputed_QRILC_object = impute.QRILC(QRILC_prep, tune.sigma = 0.1)\n",
    "    QRILC_log2_df = data.frame(imputed_QRILC_object[1]) \n",
    "    \n",
    "   # converting back the original scale\n",
    "    QRILC_df = QRILC_log2_df %>%\n",
    "        mutate_all(., function(x) 2^x - 1)\n",
    "    \n",
    "    # adding back in id cols\n",
    "    QRILC_df = cbind(Subject_ID = wider_dataset$Subject_ID, Sample_ID = wider_dataset$Sample_ID, QRILC_df)\n",
    "            \n",
    "    # pivoting the df back into a long format\n",
    "    imputed_dataset = QRILC_df %>%\n",
    "         pivot_longer(cols = 3:all_of(dim(QRILC_df)[2]), names_to = \"Protein_Accession\", values_to = \"Imputed_Norm_Intensity\")\n",
    "\n",
    "   return(imputed_dataset)\n",
    "}\n",
    "\n",
    "# calling fn\n",
    "imputed_df = QRILC_imputation(detection_filter_1_df)\n",
    "                   \n",
    "# viewing data            \n",
    "head(imputed_df)"
   ]
  },
  {
   "cell_type": "markdown",
   "id": "e99a3af5",
   "metadata": {},
   "source": [
    "# 5. Additional Test for Outliers using PCA\n",
    "\n",
    "For this task, we're interested in identifying sample outliers based on protein concentrations.\n",
    "\n",
    "To test for outliers, often times **Principal Component Analysis (PCA)** is employed. PCA works by seeking to preserve the maximum amount of variance or information, while compressing it into the fewest number of dimensions or eigenvectors as possible. By reducing the number of dimensions of our data, this will make it easier to visualize, interpret, and therefore identify outliers. We'll use the `prcomp` function to run PCA. "
   ]
  },
  {
   "cell_type": "code",
   "execution_count": 13,
   "id": "6407118d",
   "metadata": {},
   "outputs": [
    {
     "data": {
      "text/html": [
       "<table class=\"dataframe\">\n",
       "<caption>A data.frame: 6 × 1878</caption>\n",
       "<thead>\n",
       "\t<tr><th></th><th scope=col>P61626</th><th scope=col>P01877</th><th scope=col>P01876</th><th scope=col>P02768</th><th scope=col>P01834</th><th scope=col>P0DTE7.P0DTE8.P0DUB6</th><th scope=col>Q8TDL5</th><th scope=col>Q9UGM3</th><th scope=col>P0DOX8</th><th scope=col>P01036</th><th scope=col>⋯</th><th scope=col>Q14703</th><th scope=col>O00442</th><th scope=col>Q9H9S4</th><th scope=col>Q9Y315</th><th scope=col>Q8TCX1</th><th scope=col>Q9UKK3</th><th scope=col>Q9UFN0</th><th scope=col>P42331</th><th scope=col>Q8N5I3</th><th scope=col>Q9Y224</th></tr>\n",
       "\t<tr><th></th><th scope=col>&lt;dbl&gt;</th><th scope=col>&lt;dbl&gt;</th><th scope=col>&lt;dbl&gt;</th><th scope=col>&lt;dbl&gt;</th><th scope=col>&lt;dbl&gt;</th><th scope=col>&lt;dbl&gt;</th><th scope=col>&lt;dbl&gt;</th><th scope=col>&lt;dbl&gt;</th><th scope=col>&lt;dbl&gt;</th><th scope=col>&lt;dbl&gt;</th><th scope=col>⋯</th><th scope=col>&lt;dbl&gt;</th><th scope=col>&lt;dbl&gt;</th><th scope=col>&lt;dbl&gt;</th><th scope=col>&lt;dbl&gt;</th><th scope=col>&lt;dbl&gt;</th><th scope=col>&lt;dbl&gt;</th><th scope=col>&lt;dbl&gt;</th><th scope=col>&lt;dbl&gt;</th><th scope=col>&lt;dbl&gt;</th><th scope=col>&lt;dbl&gt;</th></tr>\n",
       "</thead>\n",
       "<tbody>\n",
       "\t<tr><th scope=row>Post_1</th><td>73788697</td><td>25112912</td><td>17621630</td><td>28010795</td><td>11670212</td><td> 17229358</td><td>19583225</td><td>19462839</td><td> 9302890</td><td> 1440412.7</td><td>⋯</td><td> 785.8603</td><td> 921.4306</td><td> 551.1628</td><td> 788.2795</td><td>1177.6784</td><td>1116.9351</td><td> 756.9924</td><td> 997.9239</td><td> 917.9834</td><td> 633.0669</td></tr>\n",
       "\t<tr><th scope=row>Pre_2</th><td>81867431</td><td>39075087</td><td>34951533</td><td>13976730</td><td>22089827</td><td>  3912599</td><td>22772961</td><td>17870179</td><td>15587184</td><td>  579219.2</td><td>⋯</td><td> 787.0510</td><td> 877.7856</td><td> 212.6198</td><td>1192.4807</td><td>2429.1370</td><td> 540.2620</td><td> 456.6227</td><td> 650.5910</td><td> 487.9264</td><td> 782.8629</td></tr>\n",
       "\t<tr><th scope=row>Post_3</th><td>32521079</td><td>16921860</td><td>10922385</td><td> 4118811</td><td> 6246719</td><td>129598280</td><td> 2628425</td><td> 3409361</td><td> 4515725</td><td>78655905.7</td><td>⋯</td><td> 455.8497</td><td> 470.2095</td><td> 712.5137</td><td> 389.3077</td><td> 273.5893</td><td> 470.2881</td><td> 381.1680</td><td> 341.8398</td><td> 349.4611</td><td> 540.6597</td></tr>\n",
       "\t<tr><th scope=row>Pre_4</th><td>69466046</td><td>24640442</td><td>31606502</td><td>18642863</td><td>20170044</td><td> 22819125</td><td>14995204</td><td>16422428</td><td>10686639</td><td>12022747.9</td><td>⋯</td><td> 819.1714</td><td>1070.6040</td><td> 677.2593</td><td> 621.0369</td><td> 866.9893</td><td> 713.7833</td><td> 901.0164</td><td>1414.2599</td><td>1140.0596</td><td> 837.0074</td></tr>\n",
       "\t<tr><th scope=row>Post_5</th><td>67261697</td><td>40945895</td><td>26300221</td><td>36552492</td><td>17335604</td><td>  4891770</td><td> 1638242</td><td> 5767999</td><td>14017498</td><td> 9330023.5</td><td>⋯</td><td> 450.9293</td><td> 569.1758</td><td> 249.6395</td><td> 492.5448</td><td>1823.5557</td><td> 533.9391</td><td>1105.3320</td><td> 656.6201</td><td> 521.0589</td><td> 457.3191</td></tr>\n",
       "\t<tr><th scope=row>Pre_6</th><td>54090668</td><td>17039381</td><td> 9397191</td><td>40558191</td><td>12641798</td><td>  9772146</td><td> 2636205</td><td>10713204</td><td> 6076882</td><td>11836398.5</td><td>⋯</td><td>1228.9310</td><td>1694.2199</td><td>2060.9185</td><td>4337.0350</td><td>2189.8360</td><td>4727.1241</td><td>1577.5912</td><td> 917.5893</td><td>1434.1430</td><td>1794.3190</td></tr>\n",
       "</tbody>\n",
       "</table>\n"
      ],
      "text/latex": [
       "A data.frame: 6 × 1878\n",
       "\\begin{tabular}{r|lllllllllllllllllllll}\n",
       "  & P61626 & P01877 & P01876 & P02768 & P01834 & P0DTE7.P0DTE8.P0DUB6 & Q8TDL5 & Q9UGM3 & P0DOX8 & P01036 & ⋯ & Q14703 & O00442 & Q9H9S4 & Q9Y315 & Q8TCX1 & Q9UKK3 & Q9UFN0 & P42331 & Q8N5I3 & Q9Y224\\\\\n",
       "  & <dbl> & <dbl> & <dbl> & <dbl> & <dbl> & <dbl> & <dbl> & <dbl> & <dbl> & <dbl> & ⋯ & <dbl> & <dbl> & <dbl> & <dbl> & <dbl> & <dbl> & <dbl> & <dbl> & <dbl> & <dbl>\\\\\n",
       "\\hline\n",
       "\tPost\\_1 & 73788697 & 25112912 & 17621630 & 28010795 & 11670212 &  17229358 & 19583225 & 19462839 &  9302890 &  1440412.7 & ⋯ &  785.8603 &  921.4306 &  551.1628 &  788.2795 & 1177.6784 & 1116.9351 &  756.9924 &  997.9239 &  917.9834 &  633.0669\\\\\n",
       "\tPre\\_2 & 81867431 & 39075087 & 34951533 & 13976730 & 22089827 &   3912599 & 22772961 & 17870179 & 15587184 &   579219.2 & ⋯ &  787.0510 &  877.7856 &  212.6198 & 1192.4807 & 2429.1370 &  540.2620 &  456.6227 &  650.5910 &  487.9264 &  782.8629\\\\\n",
       "\tPost\\_3 & 32521079 & 16921860 & 10922385 &  4118811 &  6246719 & 129598280 &  2628425 &  3409361 &  4515725 & 78655905.7 & ⋯ &  455.8497 &  470.2095 &  712.5137 &  389.3077 &  273.5893 &  470.2881 &  381.1680 &  341.8398 &  349.4611 &  540.6597\\\\\n",
       "\tPre\\_4 & 69466046 & 24640442 & 31606502 & 18642863 & 20170044 &  22819125 & 14995204 & 16422428 & 10686639 & 12022747.9 & ⋯ &  819.1714 & 1070.6040 &  677.2593 &  621.0369 &  866.9893 &  713.7833 &  901.0164 & 1414.2599 & 1140.0596 &  837.0074\\\\\n",
       "\tPost\\_5 & 67261697 & 40945895 & 26300221 & 36552492 & 17335604 &   4891770 &  1638242 &  5767999 & 14017498 &  9330023.5 & ⋯ &  450.9293 &  569.1758 &  249.6395 &  492.5448 & 1823.5557 &  533.9391 & 1105.3320 &  656.6201 &  521.0589 &  457.3191\\\\\n",
       "\tPre\\_6 & 54090668 & 17039381 &  9397191 & 40558191 & 12641798 &   9772146 &  2636205 & 10713204 &  6076882 & 11836398.5 & ⋯ & 1228.9310 & 1694.2199 & 2060.9185 & 4337.0350 & 2189.8360 & 4727.1241 & 1577.5912 &  917.5893 & 1434.1430 & 1794.3190\\\\\n",
       "\\end{tabular}\n"
      ],
      "text/markdown": [
       "\n",
       "A data.frame: 6 × 1878\n",
       "\n",
       "| <!--/--> | P61626 &lt;dbl&gt; | P01877 &lt;dbl&gt; | P01876 &lt;dbl&gt; | P02768 &lt;dbl&gt; | P01834 &lt;dbl&gt; | P0DTE7.P0DTE8.P0DUB6 &lt;dbl&gt; | Q8TDL5 &lt;dbl&gt; | Q9UGM3 &lt;dbl&gt; | P0DOX8 &lt;dbl&gt; | P01036 &lt;dbl&gt; | ⋯ ⋯ | Q14703 &lt;dbl&gt; | O00442 &lt;dbl&gt; | Q9H9S4 &lt;dbl&gt; | Q9Y315 &lt;dbl&gt; | Q8TCX1 &lt;dbl&gt; | Q9UKK3 &lt;dbl&gt; | Q9UFN0 &lt;dbl&gt; | P42331 &lt;dbl&gt; | Q8N5I3 &lt;dbl&gt; | Q9Y224 &lt;dbl&gt; |\n",
       "|---|---|---|---|---|---|---|---|---|---|---|---|---|---|---|---|---|---|---|---|---|---|\n",
       "| Post_1 | 73788697 | 25112912 | 17621630 | 28010795 | 11670212 |  17229358 | 19583225 | 19462839 |  9302890 |  1440412.7 | ⋯ |  785.8603 |  921.4306 |  551.1628 |  788.2795 | 1177.6784 | 1116.9351 |  756.9924 |  997.9239 |  917.9834 |  633.0669 |\n",
       "| Pre_2 | 81867431 | 39075087 | 34951533 | 13976730 | 22089827 |   3912599 | 22772961 | 17870179 | 15587184 |   579219.2 | ⋯ |  787.0510 |  877.7856 |  212.6198 | 1192.4807 | 2429.1370 |  540.2620 |  456.6227 |  650.5910 |  487.9264 |  782.8629 |\n",
       "| Post_3 | 32521079 | 16921860 | 10922385 |  4118811 |  6246719 | 129598280 |  2628425 |  3409361 |  4515725 | 78655905.7 | ⋯ |  455.8497 |  470.2095 |  712.5137 |  389.3077 |  273.5893 |  470.2881 |  381.1680 |  341.8398 |  349.4611 |  540.6597 |\n",
       "| Pre_4 | 69466046 | 24640442 | 31606502 | 18642863 | 20170044 |  22819125 | 14995204 | 16422428 | 10686639 | 12022747.9 | ⋯ |  819.1714 | 1070.6040 |  677.2593 |  621.0369 |  866.9893 |  713.7833 |  901.0164 | 1414.2599 | 1140.0596 |  837.0074 |\n",
       "| Post_5 | 67261697 | 40945895 | 26300221 | 36552492 | 17335604 |   4891770 |  1638242 |  5767999 | 14017498 |  9330023.5 | ⋯ |  450.9293 |  569.1758 |  249.6395 |  492.5448 | 1823.5557 |  533.9391 | 1105.3320 |  656.6201 |  521.0589 |  457.3191 |\n",
       "| Pre_6 | 54090668 | 17039381 |  9397191 | 40558191 | 12641798 |   9772146 |  2636205 | 10713204 |  6076882 | 11836398.5 | ⋯ | 1228.9310 | 1694.2199 | 2060.9185 | 4337.0350 | 2189.8360 | 4727.1241 | 1577.5912 |  917.5893 | 1434.1430 | 1794.3190 |\n",
       "\n"
      ],
      "text/plain": [
       "       P61626   P01877   P01876   P02768   P01834   P0DTE7.P0DTE8.P0DUB6\n",
       "Post_1 73788697 25112912 17621630 28010795 11670212  17229358           \n",
       "Pre_2  81867431 39075087 34951533 13976730 22089827   3912599           \n",
       "Post_3 32521079 16921860 10922385  4118811  6246719 129598280           \n",
       "Pre_4  69466046 24640442 31606502 18642863 20170044  22819125           \n",
       "Post_5 67261697 40945895 26300221 36552492 17335604   4891770           \n",
       "Pre_6  54090668 17039381  9397191 40558191 12641798   9772146           \n",
       "       Q8TDL5   Q9UGM3   P0DOX8   P01036     ⋯ Q14703    O00442    Q9H9S4   \n",
       "Post_1 19583225 19462839  9302890  1440412.7 ⋯  785.8603  921.4306  551.1628\n",
       "Pre_2  22772961 17870179 15587184   579219.2 ⋯  787.0510  877.7856  212.6198\n",
       "Post_3  2628425  3409361  4515725 78655905.7 ⋯  455.8497  470.2095  712.5137\n",
       "Pre_4  14995204 16422428 10686639 12022747.9 ⋯  819.1714 1070.6040  677.2593\n",
       "Post_5  1638242  5767999 14017498  9330023.5 ⋯  450.9293  569.1758  249.6395\n",
       "Pre_6   2636205 10713204  6076882 11836398.5 ⋯ 1228.9310 1694.2199 2060.9185\n",
       "       Q9Y315    Q8TCX1    Q9UKK3    Q9UFN0    P42331    Q8N5I3    Q9Y224   \n",
       "Post_1  788.2795 1177.6784 1116.9351  756.9924  997.9239  917.9834  633.0669\n",
       "Pre_2  1192.4807 2429.1370  540.2620  456.6227  650.5910  487.9264  782.8629\n",
       "Post_3  389.3077  273.5893  470.2881  381.1680  341.8398  349.4611  540.6597\n",
       "Pre_4   621.0369  866.9893  713.7833  901.0164 1414.2599 1140.0596  837.0074\n",
       "Post_5  492.5448 1823.5557  533.9391 1105.3320  656.6201  521.0589  457.3191\n",
       "Pre_6  4337.0350 2189.8360 4727.1241 1577.5912  917.5893 1434.1430 1794.3190"
      ]
     },
     "metadata": {},
     "output_type": "display_data"
    }
   ],
   "source": [
    "# prepping df for PCA\n",
    "pca_prep_df = imputed_df %>%\n",
    "    # selecting columns of interest\n",
    "    select(c(\"Sample_ID\", \"Protein_Accession\", \"Imputed_Norm_Intensity\")) %>%\n",
    "    pivot_wider(names_from = Protein_Accession, values_from = Imputed_Norm_Intensity) %>%\n",
    "    column_to_rownames(var = \"Sample_ID\")\n",
    "\n",
    "head(pca_prep_df)"
   ]
  },
  {
   "cell_type": "code",
   "execution_count": 14,
   "id": "533b58bf",
   "metadata": {},
   "outputs": [
    {
     "data": {
      "image/png": "[encoded data removed]",
      "text/plain": [
       "plot without title"
      ]
     },
     "metadata": {
      "image/png": {
       "height": 300,
       "width": 600
      }
     },
     "output_type": "display_data"
    }
   ],
   "source": [
    "# running PCA\n",
    "pca = prcomp(pca_prep_df)\n",
    "\n",
    "# viewing scree plots to see how much of the variance was captured in first 2 eigenvectors\n",
    "options(repr.plot.width=10, repr.plot.height=5) # changing size\n",
    "fviz_eig(pca, addlabels = TRUE)"
   ]
  },
  {
   "cell_type": "code",
   "execution_count": 15,
   "id": "b7de0db9",
   "metadata": {},
   "outputs": [
    {
     "name": "stderr",
     "output_type": "stream",
     "text": [
      "Warning message:\n",
      "“ggrepel: 11 unlabeled data points (too many overlaps). Consider increasing max.overlaps”\n"
     ]
    },
    {
     "data": {
      "image/png": "[encoded data removed]",
      "text/plain": [
       "plot without title"
      ]
     },
     "metadata": {
      "image/png": {
       "height": 300,
       "width": 600
      }
     },
     "output_type": "display_data"
    }
   ],
   "source": [
    "# visualizing all data to detect outliers\n",
    "fviz_pca_ind(pca, \n",
    "             repel = TRUE) +\n",
    "theme(axis.line = element_line(colour = \"black\"), #making x and y axes black\n",
    "      legend.text = element_text(size = 8),\n",
    "      axis.title = element_text(face = \"bold\", size = rel(1.1))) #changes axis titles"
   ]
  },
  {
   "cell_type": "markdown",
   "id": "c7215648",
   "metadata": {},
   "source": [
    "It looks like Post_3 should be removed, but let's use a quantitative cutoff to ensure others aren't missed. The standard way to detect outliers in genetics is the criterion of being “more than 6 standard deviations away from the mean” [ref](https://privefl.github.io/blog/detecting-outlier-samples-in-pca/). "
   ]
  },
  {
   "cell_type": "code",
   "execution_count": 16,
   "id": "24937e46",
   "metadata": {},
   "outputs": [
    {
     "data": {
      "text/html": [],
      "text/latex": [],
      "text/markdown": [],
      "text/plain": [
       "character(0)"
      ]
     },
     "metadata": {},
     "output_type": "display_data"
    }
   ],
   "source": [
    "outlier_detection = function(pca_df){\n",
    "    # \"\"\"\n",
    "    # Creating a scoring function for to detect PCA sample outliers. \n",
    "    # :param (input): PCA df (df)\n",
    "    # :output: outlier names\n",
    "    # \"\"\"\n",
    "    \n",
    "    # getting scores\n",
    "    scores = pca_df$x\n",
    "    # identifying samples that are > 6 standard deviations away from the mean\n",
    "    outlier_indices = apply(scores, 2, function(x) which( abs(x - mean(x)) > (6 * sd(x)) )) %>%\n",
    "        Reduce(union, .)\n",
    "    # getting sample names\n",
    "    outliers = rownames(scores)[outlier_indices]\n",
    "    \n",
    "    return(outliers)\n",
    "}\n",
    "\n",
    "# calling fn\n",
    "outliers = outlier_detection(pca)\n",
    "outliers"
   ]
  },
  {
   "cell_type": "markdown",
   "id": "a3eef1e0",
   "metadata": {},
   "source": [
    "There were no outliers based on the quantitative cut off, so no samples or subjects will be removed. Now we'll export a processed version of the proteomics data that was filtered and normalized. "
   ]
  },
  {
   "cell_type": "code",
   "execution_count": 17,
   "id": "c4a23400",
   "metadata": {},
   "outputs": [
    {
     "data": {
      "text/html": [
       "<table class=\"dataframe\">\n",
       "<caption>A tibble: 6 × 9</caption>\n",
       "<thead>\n",
       "\t<tr><th scope=col>Protein_Accession</th><th scope=col>Gene_Name</th><th scope=col>Protein_Descriptions</th><th scope=col>Protein_Name</th><th scope=col>Number_Unique_Peptides</th><th scope=col>Subject_ID</th><th scope=col>Sample_ID</th><th scope=col>Intensity</th><th scope=col>Norm_Intensity</th></tr>\n",
       "\t<tr><th scope=col>&lt;chr&gt;</th><th scope=col>&lt;chr&gt;</th><th scope=col>&lt;chr&gt;</th><th scope=col>&lt;chr&gt;</th><th scope=col>&lt;dbl&gt;</th><th scope=col>&lt;chr&gt;</th><th scope=col>&lt;chr&gt;</th><th scope=col>&lt;dbl&gt;</th><th scope=col>&lt;dbl&gt;</th></tr>\n",
       "</thead>\n",
       "<tbody>\n",
       "\t<tr><td>P61626</td><td>LYZ</td><td>Lysozyme C</td><td>LYSC_HUMAN</td><td>21</td><td>NR_1</td><td>Post_1</td><td>64819128</td><td>73788698</td></tr>\n",
       "\t<tr><td>P61626</td><td>LYZ</td><td>Lysozyme C</td><td>LYSC_HUMAN</td><td>21</td><td>NR_1</td><td>Pre_2 </td><td>88131664</td><td>81867432</td></tr>\n",
       "\t<tr><td>P61626</td><td>LYZ</td><td>Lysozyme C</td><td>LYSC_HUMAN</td><td>21</td><td>NR_2</td><td>Post_3</td><td>30396704</td><td>32521080</td></tr>\n",
       "\t<tr><td>P61626</td><td>LYZ</td><td>Lysozyme C</td><td>LYSC_HUMAN</td><td>21</td><td>NR_2</td><td>Pre_4 </td><td>38267072</td><td>69466047</td></tr>\n",
       "\t<tr><td>P61626</td><td>LYZ</td><td>Lysozyme C</td><td>LYSC_HUMAN</td><td>21</td><td>R_16</td><td>Post_5</td><td>68394088</td><td>67261698</td></tr>\n",
       "\t<tr><td>P61626</td><td>LYZ</td><td>Lysozyme C</td><td>LYSC_HUMAN</td><td>21</td><td>R_16</td><td>Pre_6 </td><td>50484084</td><td>54090669</td></tr>\n",
       "</tbody>\n",
       "</table>\n"
      ],
      "text/latex": [
       "A tibble: 6 × 9\n",
       "\\begin{tabular}{lllllllll}\n",
       " Protein\\_Accession & Gene\\_Name & Protein\\_Descriptions & Protein\\_Name & Number\\_Unique\\_Peptides & Subject\\_ID & Sample\\_ID & Intensity & Norm\\_Intensity\\\\\n",
       " <chr> & <chr> & <chr> & <chr> & <dbl> & <chr> & <chr> & <dbl> & <dbl>\\\\\n",
       "\\hline\n",
       "\t P61626 & LYZ & Lysozyme C & LYSC\\_HUMAN & 21 & NR\\_1 & Post\\_1 & 64819128 & 73788698\\\\\n",
       "\t P61626 & LYZ & Lysozyme C & LYSC\\_HUMAN & 21 & NR\\_1 & Pre\\_2  & 88131664 & 81867432\\\\\n",
       "\t P61626 & LYZ & Lysozyme C & LYSC\\_HUMAN & 21 & NR\\_2 & Post\\_3 & 30396704 & 32521080\\\\\n",
       "\t P61626 & LYZ & Lysozyme C & LYSC\\_HUMAN & 21 & NR\\_2 & Pre\\_4  & 38267072 & 69466047\\\\\n",
       "\t P61626 & LYZ & Lysozyme C & LYSC\\_HUMAN & 21 & R\\_16 & Post\\_5 & 68394088 & 67261698\\\\\n",
       "\t P61626 & LYZ & Lysozyme C & LYSC\\_HUMAN & 21 & R\\_16 & Pre\\_6  & 50484084 & 54090669\\\\\n",
       "\\end{tabular}\n"
      ],
      "text/markdown": [
       "\n",
       "A tibble: 6 × 9\n",
       "\n",
       "| Protein_Accession &lt;chr&gt; | Gene_Name &lt;chr&gt; | Protein_Descriptions &lt;chr&gt; | Protein_Name &lt;chr&gt; | Number_Unique_Peptides &lt;dbl&gt; | Subject_ID &lt;chr&gt; | Sample_ID &lt;chr&gt; | Intensity &lt;dbl&gt; | Norm_Intensity &lt;dbl&gt; |\n",
       "|---|---|---|---|---|---|---|---|---|\n",
       "| P61626 | LYZ | Lysozyme C | LYSC_HUMAN | 21 | NR_1 | Post_1 | 64819128 | 73788698 |\n",
       "| P61626 | LYZ | Lysozyme C | LYSC_HUMAN | 21 | NR_1 | Pre_2  | 88131664 | 81867432 |\n",
       "| P61626 | LYZ | Lysozyme C | LYSC_HUMAN | 21 | NR_2 | Post_3 | 30396704 | 32521080 |\n",
       "| P61626 | LYZ | Lysozyme C | LYSC_HUMAN | 21 | NR_2 | Pre_4  | 38267072 | 69466047 |\n",
       "| P61626 | LYZ | Lysozyme C | LYSC_HUMAN | 21 | R_16 | Post_5 | 68394088 | 67261698 |\n",
       "| P61626 | LYZ | Lysozyme C | LYSC_HUMAN | 21 | R_16 | Pre_6  | 50484084 | 54090669 |\n",
       "\n"
      ],
      "text/plain": [
       "  Protein_Accession Gene_Name Protein_Descriptions Protein_Name\n",
       "1 P61626            LYZ       Lysozyme C           LYSC_HUMAN  \n",
       "2 P61626            LYZ       Lysozyme C           LYSC_HUMAN  \n",
       "3 P61626            LYZ       Lysozyme C           LYSC_HUMAN  \n",
       "4 P61626            LYZ       Lysozyme C           LYSC_HUMAN  \n",
       "5 P61626            LYZ       Lysozyme C           LYSC_HUMAN  \n",
       "6 P61626            LYZ       Lysozyme C           LYSC_HUMAN  \n",
       "  Number_Unique_Peptides Subject_ID Sample_ID Intensity Norm_Intensity\n",
       "1 21                     NR_1       Post_1    64819128  73788698      \n",
       "2 21                     NR_1       Pre_2     88131664  81867432      \n",
       "3 21                     NR_2       Post_3    30396704  32521080      \n",
       "4 21                     NR_2       Pre_4     38267072  69466047      \n",
       "5 21                     R_16       Post_5    68394088  67261698      \n",
       "6 21                     R_16       Pre_6     50484084  54090669      "
      ]
     },
     "metadata": {},
     "output_type": "display_data"
    },
    {
     "data": {
      "text/html": [
       "<table class=\"dataframe\">\n",
       "<caption>A tibble: 6 × 4</caption>\n",
       "<thead>\n",
       "\t<tr><th scope=col>Subject_ID</th><th scope=col>Sample_ID</th><th scope=col>Protein_Accession</th><th scope=col>Imputed_Norm_Intensity</th></tr>\n",
       "\t<tr><th scope=col>&lt;chr&gt;</th><th scope=col>&lt;chr&gt;</th><th scope=col>&lt;chr&gt;</th><th scope=col>&lt;dbl&gt;</th></tr>\n",
       "</thead>\n",
       "<tbody>\n",
       "\t<tr><td>NR_1</td><td>Post_1</td><td>P61626              </td><td>73788697</td></tr>\n",
       "\t<tr><td>NR_1</td><td>Post_1</td><td>P01877              </td><td>25112912</td></tr>\n",
       "\t<tr><td>NR_1</td><td>Post_1</td><td>P01876              </td><td>17621630</td></tr>\n",
       "\t<tr><td>NR_1</td><td>Post_1</td><td>P02768              </td><td>28010795</td></tr>\n",
       "\t<tr><td>NR_1</td><td>Post_1</td><td>P01834              </td><td>11670212</td></tr>\n",
       "\t<tr><td>NR_1</td><td>Post_1</td><td>P0DTE7.P0DTE8.P0DUB6</td><td>17229358</td></tr>\n",
       "</tbody>\n",
       "</table>\n"
      ],
      "text/latex": [
       "A tibble: 6 × 4\n",
       "\\begin{tabular}{llll}\n",
       " Subject\\_ID & Sample\\_ID & Protein\\_Accession & Imputed\\_Norm\\_Intensity\\\\\n",
       " <chr> & <chr> & <chr> & <dbl>\\\\\n",
       "\\hline\n",
       "\t NR\\_1 & Post\\_1 & P61626               & 73788697\\\\\n",
       "\t NR\\_1 & Post\\_1 & P01877               & 25112912\\\\\n",
       "\t NR\\_1 & Post\\_1 & P01876               & 17621630\\\\\n",
       "\t NR\\_1 & Post\\_1 & P02768               & 28010795\\\\\n",
       "\t NR\\_1 & Post\\_1 & P01834               & 11670212\\\\\n",
       "\t NR\\_1 & Post\\_1 & P0DTE7.P0DTE8.P0DUB6 & 17229358\\\\\n",
       "\\end{tabular}\n"
      ],
      "text/markdown": [
       "\n",
       "A tibble: 6 × 4\n",
       "\n",
       "| Subject_ID &lt;chr&gt; | Sample_ID &lt;chr&gt; | Protein_Accession &lt;chr&gt; | Imputed_Norm_Intensity &lt;dbl&gt; |\n",
       "|---|---|---|---|\n",
       "| NR_1 | Post_1 | P61626               | 73788697 |\n",
       "| NR_1 | Post_1 | P01877               | 25112912 |\n",
       "| NR_1 | Post_1 | P01876               | 17621630 |\n",
       "| NR_1 | Post_1 | P02768               | 28010795 |\n",
       "| NR_1 | Post_1 | P01834               | 11670212 |\n",
       "| NR_1 | Post_1 | P0DTE7.P0DTE8.P0DUB6 | 17229358 |\n",
       "\n"
      ],
      "text/plain": [
       "  Subject_ID Sample_ID Protein_Accession    Imputed_Norm_Intensity\n",
       "1 NR_1       Post_1    P61626               73788697              \n",
       "2 NR_1       Post_1    P01877               25112912              \n",
       "3 NR_1       Post_1    P01876               17621630              \n",
       "4 NR_1       Post_1    P02768               28010795              \n",
       "5 NR_1       Post_1    P01834               11670212              \n",
       "6 NR_1       Post_1    P0DTE7.P0DTE8.P0DUB6 17229358              "
      ]
     },
     "metadata": {},
     "output_type": "display_data"
    }
   ],
   "source": [
    "head(detection_filter_1_df)\n",
    "head(imputed_df)"
   ]
  },
  {
   "cell_type": "code",
   "execution_count": 18,
   "id": "ccb5ca76",
   "metadata": {},
   "outputs": [
    {
     "name": "stderr",
     "output_type": "stream",
     "text": [
      "\u001b[1m\u001b[22mJoining, by = c(\"Protein_Accession\", \"Subject_ID\", \"Sample_ID\")\n"
     ]
    },
    {
     "data": {
      "text/html": [
       "<table class=\"dataframe\">\n",
       "<caption>A tibble: 6 × 9</caption>\n",
       "<thead>\n",
       "\t<tr><th scope=col>Protein_Accession</th><th scope=col>Gene_Name</th><th scope=col>Protein_Descriptions</th><th scope=col>Protein_Name</th><th scope=col>Number_Unique_Peptides</th><th scope=col>Subject_ID</th><th scope=col>Sample_ID</th><th scope=col>Intensity</th><th scope=col>Imputed_Norm_Intensity</th></tr>\n",
       "\t<tr><th scope=col>&lt;chr&gt;</th><th scope=col>&lt;chr&gt;</th><th scope=col>&lt;chr&gt;</th><th scope=col>&lt;chr&gt;</th><th scope=col>&lt;dbl&gt;</th><th scope=col>&lt;chr&gt;</th><th scope=col>&lt;chr&gt;</th><th scope=col>&lt;dbl&gt;</th><th scope=col>&lt;dbl&gt;</th></tr>\n",
       "</thead>\n",
       "<tbody>\n",
       "\t<tr><td>P61626</td><td>LYZ</td><td>Lysozyme C</td><td>LYSC_HUMAN</td><td>21</td><td>NR_1</td><td>Post_1</td><td>64819128</td><td>73788697</td></tr>\n",
       "\t<tr><td>P61626</td><td>LYZ</td><td>Lysozyme C</td><td>LYSC_HUMAN</td><td>21</td><td>NR_1</td><td>Pre_2 </td><td>88131664</td><td>81867431</td></tr>\n",
       "\t<tr><td>P61626</td><td>LYZ</td><td>Lysozyme C</td><td>LYSC_HUMAN</td><td>21</td><td>NR_2</td><td>Post_3</td><td>30396704</td><td>32521079</td></tr>\n",
       "\t<tr><td>P61626</td><td>LYZ</td><td>Lysozyme C</td><td>LYSC_HUMAN</td><td>21</td><td>NR_2</td><td>Pre_4 </td><td>38267072</td><td>69466046</td></tr>\n",
       "\t<tr><td>P61626</td><td>LYZ</td><td>Lysozyme C</td><td>LYSC_HUMAN</td><td>21</td><td>R_16</td><td>Post_5</td><td>68394088</td><td>67261697</td></tr>\n",
       "\t<tr><td>P61626</td><td>LYZ</td><td>Lysozyme C</td><td>LYSC_HUMAN</td><td>21</td><td>R_16</td><td>Pre_6 </td><td>50484084</td><td>54090668</td></tr>\n",
       "</tbody>\n",
       "</table>\n"
      ],
      "text/latex": [
       "A tibble: 6 × 9\n",
       "\\begin{tabular}{lllllllll}\n",
       " Protein\\_Accession & Gene\\_Name & Protein\\_Descriptions & Protein\\_Name & Number\\_Unique\\_Peptides & Subject\\_ID & Sample\\_ID & Intensity & Imputed\\_Norm\\_Intensity\\\\\n",
       " <chr> & <chr> & <chr> & <chr> & <dbl> & <chr> & <chr> & <dbl> & <dbl>\\\\\n",
       "\\hline\n",
       "\t P61626 & LYZ & Lysozyme C & LYSC\\_HUMAN & 21 & NR\\_1 & Post\\_1 & 64819128 & 73788697\\\\\n",
       "\t P61626 & LYZ & Lysozyme C & LYSC\\_HUMAN & 21 & NR\\_1 & Pre\\_2  & 88131664 & 81867431\\\\\n",
       "\t P61626 & LYZ & Lysozyme C & LYSC\\_HUMAN & 21 & NR\\_2 & Post\\_3 & 30396704 & 32521079\\\\\n",
       "\t P61626 & LYZ & Lysozyme C & LYSC\\_HUMAN & 21 & NR\\_2 & Pre\\_4  & 38267072 & 69466046\\\\\n",
       "\t P61626 & LYZ & Lysozyme C & LYSC\\_HUMAN & 21 & R\\_16 & Post\\_5 & 68394088 & 67261697\\\\\n",
       "\t P61626 & LYZ & Lysozyme C & LYSC\\_HUMAN & 21 & R\\_16 & Pre\\_6  & 50484084 & 54090668\\\\\n",
       "\\end{tabular}\n"
      ],
      "text/markdown": [
       "\n",
       "A tibble: 6 × 9\n",
       "\n",
       "| Protein_Accession &lt;chr&gt; | Gene_Name &lt;chr&gt; | Protein_Descriptions &lt;chr&gt; | Protein_Name &lt;chr&gt; | Number_Unique_Peptides &lt;dbl&gt; | Subject_ID &lt;chr&gt; | Sample_ID &lt;chr&gt; | Intensity &lt;dbl&gt; | Imputed_Norm_Intensity &lt;dbl&gt; |\n",
       "|---|---|---|---|---|---|---|---|---|\n",
       "| P61626 | LYZ | Lysozyme C | LYSC_HUMAN | 21 | NR_1 | Post_1 | 64819128 | 73788697 |\n",
       "| P61626 | LYZ | Lysozyme C | LYSC_HUMAN | 21 | NR_1 | Pre_2  | 88131664 | 81867431 |\n",
       "| P61626 | LYZ | Lysozyme C | LYSC_HUMAN | 21 | NR_2 | Post_3 | 30396704 | 32521079 |\n",
       "| P61626 | LYZ | Lysozyme C | LYSC_HUMAN | 21 | NR_2 | Pre_4  | 38267072 | 69466046 |\n",
       "| P61626 | LYZ | Lysozyme C | LYSC_HUMAN | 21 | R_16 | Post_5 | 68394088 | 67261697 |\n",
       "| P61626 | LYZ | Lysozyme C | LYSC_HUMAN | 21 | R_16 | Pre_6  | 50484084 | 54090668 |\n",
       "\n"
      ],
      "text/plain": [
       "  Protein_Accession Gene_Name Protein_Descriptions Protein_Name\n",
       "1 P61626            LYZ       Lysozyme C           LYSC_HUMAN  \n",
       "2 P61626            LYZ       Lysozyme C           LYSC_HUMAN  \n",
       "3 P61626            LYZ       Lysozyme C           LYSC_HUMAN  \n",
       "4 P61626            LYZ       Lysozyme C           LYSC_HUMAN  \n",
       "5 P61626            LYZ       Lysozyme C           LYSC_HUMAN  \n",
       "6 P61626            LYZ       Lysozyme C           LYSC_HUMAN  \n",
       "  Number_Unique_Peptides Subject_ID Sample_ID Intensity Imputed_Norm_Intensity\n",
       "1 21                     NR_1       Post_1    64819128  73788697              \n",
       "2 21                     NR_1       Pre_2     88131664  81867431              \n",
       "3 21                     NR_2       Post_3    30396704  32521079              \n",
       "4 21                     NR_2       Pre_4     38267072  69466046              \n",
       "5 21                     R_16       Post_5    68394088  67261697              \n",
       "6 21                     R_16       Pre_6     50484084  54090668              "
      ]
     },
     "metadata": {},
     "output_type": "display_data"
    }
   ],
   "source": [
    "# first adding back in descriptive columns\n",
    "final_df = inner_join(detection_filter_1_df %>%\n",
    "               select(-Norm_Intensity), imputed_df)\n",
    "head(final_df)"
   ]
  },
  {
   "cell_type": "code",
   "execution_count": 19,
   "id": "94ff6c38",
   "metadata": {},
   "outputs": [],
   "source": [
    "# exporting results\n",
    "write.csv(final_df, paste0(Output,\"/\", \"Processed_Proteomics_Data.csv\"), row.names = FALSE)"
   ]
  },
  {
   "cell_type": "code",
   "execution_count": null,
   "id": "d286eae1",
   "metadata": {},
   "outputs": [],
   "source": []
  }
 ],
 "metadata": {
  "kernelspec": {
   "display_name": "R",
   "language": "R",
   "name": "ir"
  },
  "language_info": {
   "codemirror_mode": "r",
   "file_extension": ".r",
   "mimetype": "text/x-r-source",
   "name": "R",
   "pygments_lexer": "r",
   "version": "4.1.3"
  }
 },
 "nbformat": 4,
 "nbformat_minor": 5
}
